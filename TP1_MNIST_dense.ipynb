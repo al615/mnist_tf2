{
 "cells": [
  {
   "cell_type": "markdown",
   "metadata": {},
   "source": [
    "# Machine learning avec les modules Python tensorflow2/keras "
   ]
  },
  {
   "cell_type": "markdown",
   "metadata": {},
   "source": [
    "## Entraînement / exploitation d'un réseau de neurones dense pour la reconnaissance de chiffres manuscrits"
   ]
  },
  {
   "cell_type": "markdown",
   "metadata": {},
   "source": [
    "## La banque d'images MNIST\n",
    "\n",
    "Dans ce TP nous utilisons les images de la banque MNIST disponible sur Internet (http://yann.lecun.com/exdb/mnist/).\n",
    "\n",
    "La banque MNIST propose 70000 images en ton de gris de 28 $\\times$ 28 pixels, correspondant à des matrice 28 $\\times$ 28 de nombres `uint8` (entiers positifs dans l'intervalle [0 ; 255]).<br>\n",
    "Les 70000 images du MNIST sont regoupées en **60000 images d'apprentissage** et **10000 images de test**.<br>\n",
    "<p style=\"text-align:center; font-style:italic; font-size:12px;\">\n",
    "<img src=\"./img/MnistExamples.png\" width=\"500\"><br>\n",
    "[crédit image : Josef Steppan — Travail personnel, CC BY-SA 4.0, commons.wikimedia.org/w/index.php?curid=64810040)]\n",
    "</p>"
   ]
  },
  {
   "cell_type": "markdown",
   "metadata": {},
   "source": [
    "# A/ Quelques rappels...\n",
    "\n",
    "## Le neurone artificiel\n",
    "C'est une unité de traitement informatique programmée pour calculer la valeur de sa **fonction d'activation** en un point défini par la **combinaison linéaire de ses entrées** $\\Sigma_i w_i x_i - b$ :\n",
    "\n",
    "<p style=\"text-align:center; font-style:italic; font-size:12px;\">\n",
    "    <img src=\"./img/nn_1.png\" width=\"550\" ><br>\n",
    "    [crédit image : JLC]\n",
    "</p>\n",
    "\n",
    "L'entrée *Bias* reçoit le stimuli `-1` affecté du poids $b$ permettant de décaler le point où la fonction d'activation ets calculée.\n",
    "\n",
    "## Fonction d'activation\n",
    "\n",
    "Principaux rôles des fonctions d'activation des neurones artificiels :\n",
    "\n",
    "- introdure dans le neurone artificiel un comportement **non linéaire** comme des mécanismes de seuil, de saturation...\n",
    "- fixer la plage de sortie de la valeur calculée par le neurone, par exemple sortie dans l'intervalle $[-1 ; 1]$, ou $[0 ; +\\infty[$\n",
    "\n",
    "Exemples de fonction d'activation couramment utilisées :<br />\n",
    "<p style=\"text-align:center; font-style:italic; font-size:12px;\">\n",
    "    <img src=\"./img/activationFunctions.png\" width=\"900\"><br>\n",
    "    [crédit image : JLC]\n",
    "</p>"
   ]
  },
  {
   "cell_type": "markdown",
   "metadata": {},
   "source": [
    "# B/ Structure du réseau dense à construire \n",
    "Dans ce premier TP,  nous allons construire un **réseau dense**, avec :\n",
    "- une **couche d'entrée** de 784 valeurs comprises entre 0 et 1 (les pixels de l'image 28 $\\times$ 28 mis sous forme d'un vecteur de 784 valeurs),\n",
    "- une **couche cachée** de 784 neurones utilisant la fonction d'activation `relu`,\n",
    "- une **couche de sortie** à 10 neurones, pour la classification des images en 10 classes associées aux chiffres {0,1,2...9}, utilisant la fonction d'activation `softmax` adaptée aux problèmes de classification.\n",
    "\n",
    "<p style=\"text-align:center; font-style:italic; font-size:12px;\">\n",
    "    <img src=\"./img/archiReseau.png\" alt=\"archiReseau.png\" style=\"width: 900px;\"><br> \n",
    "    [crédit image : JLC]\n",
    "</p>\n",
    "\n",
    "Remarques : \n",
    "- Chaque neurone de la première couche cachée reçoit 785 entrées : les 784 valeurs $x_i$ des pixels de l'image plus le biais (l'entrée '-1'). \n",
    "- Il y a donc 785 inconnues pour chaque neurone : les 784 poids $w_i$ affectés à chaque entrée $x_i$, plus le  poids $b$ affecté aux biais.\n",
    "- $\\leadsto$ on compte donc 785 $\\times$ 784 inconnues pour la couche cachée et 785 $\\times$ 10 inconnues pour la couche de sortie : soit un total de 623290 inconnues dont la valeur doit être optimisée par l'algorithme d'apprentissage du réseau.\n",
    "\n",
    "### Fonction d'activation softmax\n",
    "\n",
    "La fonction `softmax` calcule pour chacun neurone de sortie $k$ la valeur $\\displaystyle{Y_k = \\frac{e^{y_k}}{\\sum_i{e^{y_i}}}}$.\n",
    "\n",
    "\n",
    "`softmax` associe ainsi à chacune des sorties $y_k$ une valeur $Y_k \\in [0, 1]$ qui peut être interprétée comme la probablité de la sortie $k$ : on obtient une valeur proche de 1 pour le neurone fournissant la valeur $y_i$ la plus grande, et quasiment 0 pour tous les autres.\n",
    "\n",
    "<p style=\"text-align:center; font-style:italic; font-size:12px;\">\n",
    "    <img src=\"./img/softmax.png\" width=\"400\"><br>\n",
    "    [crédit image : JLC]\n",
    "</p>\n",
    "\n",
    "\n",
    "### Catégorisation des labels (*one-hot coding*)\n",
    "\n",
    "Les labels des images sont des entiers entre 0 et 9 désignant les chiffres de '0' à '9' alors que la sortie du réseau est un vecteur de 10 éléments compris entre 0 et 1. Pour faciliter la comparaison entre le label etla  sortie du réseau, on utilise la catégorisation *one-hot coding* : chaque classe (label) est associée à un vecteur $Y'$ comportant autant d'éléments que de classes à reconnaître : les éléments du vecteur sont tous nuls sauf un, permettant d'identifier de façon unique chacune des classes.<br>\n",
    "\n",
    "Pour notre exemple des 10 classes correspondant aux labels '0' à '9' :\n",
    "- le label `0` correspond au vecteur $Y'_1 = [1 0 0 0 0 0 0 0 0 0]$.\n",
    "- le label `3` correspond au vecteur $Y'_4 = [0 0 0 1 0 0 0 0 0 0]$.\n",
    "- le label `9` correspond au vecteur $Y'_9 = [0 0 0 0 0 0 0 0 0 1]$.\n",
    "\n",
    "### Calcul de l'erreur\n",
    "\n",
    "Pendant la phase d'entraînment du réseau, chaque image fournie en entrée donne un vecteur de probabilités de sorties (réponse calculée par le réseau) qui peut être comparé à la représentation *hot-one* du label associé à l'image d'entrée.\n",
    "\n",
    "On peut alors calculer l'erreur *cross entropy* : $-\\sum_i{Y'_i.\\log{Y_i}}$ qui mesure l'écart entre le label et la réponse du réseau :\n",
    "\n",
    "<p style=\"text-align:center; font-style:italic; font-size:12px;\">\n",
    "    <img src=\"./img/CrossEntropy.png\" width=600><br>\n",
    "    (crédit image : vidéo \"Deep Learning TensorFlow\" de Martin Gorner)\n",
    "</p>\n",
    "\n",
    "\n",
    "### Backpropagation error\n",
    "\n",
    "L'algorithme de **retropropagation de l'erreur** permet de modifier les poids des couches du réseau pour minimiser l'erreur entre valeur attendue et valeur prédite par le réseau. <br>\n",
    "Au fur et à mesure des apprentissages successifs, les poids du réseau convergent vers un état qui constitue le réseau entraîné."
   ]
  },
  {
   "cell_type": "markdown",
   "metadata": {},
   "source": [
    "# B/ Travail à faire"
   ]
  },
  {
   "cell_type": "markdown",
   "metadata": {},
   "source": [
    "## Environnement Python de travail"
   ]
  },
  {
   "cell_type": "markdown",
   "metadata": {},
   "source": [
    "<div class=\"alert alert-block alert-danger\">\n",
    "<span style=\"color:brown;font-family:arial;font-size:large\"> \n",
    "    Le travail sous Python proposé dans ce TP gagne à être fait dans un <span style=\"font-weight:bold;\">environnement Python3 dédié</span> : voir le document <span style=\"font-style:italic\">EnvironnementPython_tf2.pdf</span> si vous n'avez pas encore créé d'environnement Python dédié pour le travail avec les modules Keras et tensorflow.\n",
    "</span>\n",
    "</div>"
   ]
  },
  {
   "cell_type": "markdown",
   "metadata": {},
   "source": [
    "Vérification des versions des modules Python :\n",
    "- Python     : doit être >= 3.6\n",
    "- tensorflow : doit être >= 2.1.0\n",
    "- tf.keras   : doit être 2.2.4-tf\n",
    "- OpenCV     : doit être 3.4.x\n",
    "\n",
    "\n",
    "## Documentation tensorflow/keras\n",
    "\n",
    "Le module **keras** qui permet une manipulation de haut niveau des objets du module **tensorflow** est intégré dans tensorflow2.<br>\n",
    "La documentation du module **tf.keras** à consulter pour ce TP est ici : https://www.tensorflow.org/api_docs/python/tf/keras.  "
   ]
  },
  {
   "cell_type": "code",
   "execution_count": 1,
   "metadata": {},
   "outputs": [
    {
     "name": "stdout",
     "output_type": "stream",
     "text": [
      "Version de Python    : 3.8.5\n",
      "Version de tensorflow: 2.4.0\n",
      "Version, de Keras    : 2.4.0\n",
      "Version, de OpenCV   : 4.2.0\n"
     ]
    }
   ],
   "source": [
    "import tensorflow as tf\n",
    "import sys, cv2\n",
    "print(f\"Version de Python    : {sys.version.split()[0]}\")\n",
    "print(f\"Version de tensorflow: {tf.__version__}\")\n",
    "print(f\"Version, de Keras    : {tf.keras.__version__}\")\n",
    "print(f\"Version, de OpenCV   : {cv2.__version__}\")"
   ]
  },
  {
   "cell_type": "markdown",
   "metadata": {},
   "source": [
    "Incrustation des tracés matplotlib dans le cahier IPython et import de modules utiles :"
   ]
  },
  {
   "cell_type": "code",
   "execution_count": 2,
   "metadata": {
    "scrolled": true
   },
   "outputs": [],
   "source": [
    "%matplotlib inline\n",
    "import matplotlib.pyplot as plt\n",
    "import numpy as np"
   ]
  },
  {
   "cell_type": "markdown",
   "metadata": {},
   "source": [
    "# 1 - Récupération des images MNIST"
   ]
  },
  {
   "cell_type": "markdown",
   "metadata": {},
   "source": [
    "Consulter l'aide sur la fonction [tf.keras.datasets.mnist.load_data](https://www.tensorflow.org/api_docs/python/tf/keras/datasets/mnist/load_data).\n",
    "\n",
    "Charger les données du MNIST avec la fcntion `load_data` en nommant les données renvoyées :<br>\n",
    "- `im_train` et `im_test` pour les images d'entraînement et de test,\n",
    "- `lab_train` et `lab_test` pour les labels des données d'entraînement et de test."
   ]
  },
  {
   "cell_type": "code",
   "execution_count": 3,
   "metadata": {},
   "outputs": [],
   "source": [
    "(im_train, lab_train), (im_test, lab_test) = tf.keras.datasets.mnist.load_data()"
   ]
  },
  {
   "cell_type": "markdown",
   "metadata": {},
   "source": [
    "Faire afficher les attributs `shape` et `dtype` des tableaux obtenus et valider les réponses :"
   ]
  },
  {
   "cell_type": "code",
   "execution_count": 4,
   "metadata": {},
   "outputs": [
    {
     "data": {
      "text/plain": [
       "((60000, 28, 28), dtype('uint8'), (10000, 28, 28), dtype('uint8'))"
      ]
     },
     "execution_count": 4,
     "metadata": {},
     "output_type": "execute_result"
    }
   ],
   "source": [
    "im_train.shape, im_train.dtype, im_test.shape, im_test.dtype"
   ]
  },
  {
   "cell_type": "code",
   "execution_count": 5,
   "metadata": {},
   "outputs": [
    {
     "data": {
      "text/plain": [
       "((60000,), dtype('uint8'), (10000,), dtype('uint8'))"
      ]
     },
     "execution_count": 5,
     "metadata": {},
     "output_type": "execute_result"
    }
   ],
   "source": [
    "lab_train.shape, lab_train.dtype, lab_test.shape, lab_test.dtype"
   ]
  },
  {
   "cell_type": "markdown",
   "metadata": {},
   "source": [
    "## Visualisation des images et des étiquettes :"
   ]
  },
  {
   "cell_type": "markdown",
   "metadata": {},
   "source": [
    "Avec la fonction `imshow` du module `matplotlib.pyplot` faire afficher en tons de gris la 601-ème image du tableau `im_train`.<br><br>\n",
    "Indications :\n",
    "- utiliser `plt.figure(figsize=(2,2))` pour fixer la taille de l'image\n",
    "- utiliser l'option `cmap='gray'` de `imshow` pour l'affichage en ton de gris\n",
    "- enlever les graduations en X et Y avec l'instruction  `plt.xticks([]); plt.yticks([])`."
   ]
  },
  {
   "cell_type": "code",
   "execution_count": 6,
   "metadata": {},
   "outputs": [
    {
     "data": {
      "image/png": "[encoded data removed]",
      "text/plain": [
       "<Figure size 144x144 with 1 Axes>"
      ]
     },
     "metadata": {},
     "output_type": "display_data"
    }
   ],
   "source": [
    "plt.figure(figsize=(2,2))\n",
    "plt.imshow(im_train[600], cmap='gray')\n",
    "plt.xticks([]); plt.yticks([]);"
   ]
  },
  {
   "cell_type": "markdown",
   "metadata": {},
   "source": [
    "Vérifier que l'étiquette associée à `image_train[600]` correspond bien à ce qu'on voir sur l'image...."
   ]
  },
  {
   "cell_type": "code",
   "execution_count": 7,
   "metadata": {},
   "outputs": [
    {
     "data": {
      "text/plain": [
       "True"
      ]
     },
     "execution_count": 7,
     "metadata": {},
     "output_type": "execute_result"
    }
   ],
   "source": [
    "lab_train[600] == 9"
   ]
  },
  {
   "cell_type": "markdown",
   "metadata": {},
   "source": [
    "Écrire une fonction `plot_image` d'arguments `images, r, L, C` qui affiche les images du tableau `images` (tableau de matrices) en commençant au rang `r` dans une grille d'images de `L` lignes et `C` colonnes. La taille de la figure (option`figsize` de `plt.figure`) sera fixée pour chaque image de la grille soit de taille `(1,1)`.<br>\n",
    "*Indications* : utiliser `plt.subplot(L,C,n)` pour positionner la nième image dans la grille des L x C images."
   ]
  },
  {
   "cell_type": "code",
   "execution_count": 8,
   "metadata": {},
   "outputs": [],
   "source": [
    "def plot_image(images, r,L,C):\n",
    "    plt.figure(figsize=(C,L))\n",
    "    for i in range(L*C):\n",
    "        plt.subplot(L, C, i+1)\n",
    "        plt.imshow(images[r+i], cmap='gray')\n",
    "        plt.xticks([]); plt.yticks([])"
   ]
  },
  {
   "cell_type": "markdown",
   "metadata": {},
   "source": [
    "Faire afficher les images d'entraînement à partir de la 601 ème dans une grille de 4 x 6 :"
   ]
  },
  {
   "cell_type": "code",
   "execution_count": 9,
   "metadata": {},
   "outputs": [
    {
     "data": {
      "image/png": "[encoded data removed]",
      "text/plain": [
       "<Figure size 432x288 with 24 Axes>"
      ]
     },
     "metadata": {},
     "output_type": "display_data"
    }
   ],
   "source": [
    "plot_image(im_train, 600, 4, 6)"
   ]
  },
  {
   "cell_type": "markdown",
   "metadata": {},
   "source": [
    "Faire afficher les images de test à partir de la 601 ème dans une grille de 4 x 6 :"
   ]
  },
  {
   "cell_type": "code",
   "execution_count": 10,
   "metadata": {},
   "outputs": [
    {
     "data": {
      "image/png": "[encoded data removed]",
      "text/plain": [
       "<Figure size 432x288 with 24 Axes>"
      ]
     },
     "metadata": {},
     "output_type": "display_data"
    }
   ],
   "source": [
    "plot_image(im_test, 600, 4, 6)"
   ]
  },
  {
   "cell_type": "markdown",
   "metadata": {},
   "source": [
    "# 2 - Pré-traitement des données"
   ]
  },
  {
   "cell_type": "markdown",
   "metadata": {},
   "source": [
    "Pour adapter les données au réseau de neurones, on va transformer les matrice d'entiers `uint8` représentant les images 28 x 28 pixels en vecteurs **normalisés** $(V_i)_{i=0..783}$ de 784 valeurs réelles $V_i$  avec $ 0 \\leqslant V_i \\leqslant 1.$<br />\n",
    "\n",
    "*Nota* : une autre façon de faire consisterait à garder les matrices d'entiers en utilisant l'option de du module **keras** qui permet de dire que la couche d'entrée est constituée de matrices (cf le TP2 qui met en oeuvre un réseau convolutionnel)."
   ]
  },
  {
   "cell_type": "markdown",
   "metadata": {},
   "source": [
    "## 2.1 - Transformation des matrices d'entrée en vecteurs normalisés :"
   ]
  },
  {
   "cell_type": "markdown",
   "metadata": {},
   "source": [
    "Pour paramétrer les traitements, on récupère :\n",
    "- le nombre d'images d'entraînement (`nb_im_train` et `nb_im_test`)\n",
    "- le nombre de pixels des images (`nb_pixels`)"
   ]
  },
  {
   "cell_type": "code",
   "execution_count": 11,
   "metadata": {},
   "outputs": [
    {
     "name": "stdout",
     "output_type": "stream",
     "text": [
      "60000 images d'entraînement et 10000 images de test\n",
      "784 pixels dans chaque image\n"
     ]
    }
   ],
   "source": [
    "# compléter la cellule...\n",
    "nb_im_train = im_train.shape[0]\n",
    "nb_im_test  = im_test.shape[0]\n",
    "nb_pixels   = im_train[0].size        # normalement : 28 x 28 = 784 pixels\n",
    "print(f\"{nb_im_train} images d'entraînement et {nb_im_test} images de test\")\n",
    "print(f\"{nb_pixels} pixels dans chaque image\")"
   ]
  },
  {
   "cell_type": "markdown",
   "metadata": {},
   "source": [
    "Définir les tableaux `x_train` et `y_train` contenant les matrices des tableaux `im_train` et `im_test` *mises à plat* sous forme de vecteurs normalisés (valeurs comprises entre 0 et 1).<br>\n",
    "*indications* : utiliser la méthode `reshape` des tableaux ndarray :"
   ]
  },
  {
   "cell_type": "code",
   "execution_count": 12,
   "metadata": {},
   "outputs": [],
   "source": [
    "x_train = im_train.reshape((nb_im_train, nb_pixels))/255\n",
    "x_test  = im_test.reshape((nb_im_test, nb_pixels))/255"
   ]
  },
  {
   "cell_type": "markdown",
   "metadata": {},
   "source": [
    "Vérifier que les dimensions des tableaux `x_train` et `x_test` sont bien celles attendues :"
   ]
  },
  {
   "cell_type": "code",
   "execution_count": 13,
   "metadata": {},
   "outputs": [
    {
     "data": {
      "text/plain": [
       "((60000, 784), (10000, 784))"
      ]
     },
     "execution_count": 13,
     "metadata": {},
     "output_type": "execute_result"
    }
   ],
   "source": [
    "x_train.shape, x_test.shape"
   ]
  },
  {
   "cell_type": "markdown",
   "metadata": {},
   "source": [
    "Vérifier que les valeurs min et max des tableaux `x_train` et `x_test` sont bien celles attendues :"
   ]
  },
  {
   "cell_type": "code",
   "execution_count": 14,
   "metadata": {},
   "outputs": [
    {
     "data": {
      "text/plain": [
       "(0.0, 1.0)"
      ]
     },
     "execution_count": 14,
     "metadata": {},
     "output_type": "execute_result"
    }
   ],
   "source": [
    "x_train.min(), x_train.max()"
   ]
  },
  {
   "cell_type": "code",
   "execution_count": 15,
   "metadata": {},
   "outputs": [
    {
     "data": {
      "text/plain": [
       "(0.0, 1.0)"
      ]
     },
     "execution_count": 15,
     "metadata": {},
     "output_type": "execute_result"
    }
   ],
   "source": [
    "x_test.min(), x_test.max()"
   ]
  },
  {
   "cell_type": "markdown",
   "metadata": {},
   "source": [
    "## 2.2 - Codage *one-hot*  des labels:"
   ]
  },
  {
   "cell_type": "markdown",
   "metadata": {},
   "source": [
    "Consulter la page sur la fonction `to_categorical` [tf.keras.utils.to_categorical](https://www.tensorflow.org/api_docs/python/tf/keras/utils/to_categorical) : en déduire comment définir les tableaux  `y_train` et `y_test` traduction *hot-one* des tableaux `lab_train` et `lab_test` :"
   ]
  },
  {
   "cell_type": "code",
   "execution_count": 16,
   "metadata": {},
   "outputs": [],
   "source": [
    "from tensorflow.keras.utils import to_categorical\n",
    "# 'one-hot' encoding' des labels :\n",
    "y_train = to_categorical(lab_train)\n",
    "y_test  = to_categorical(lab_test)"
   ]
  },
  {
   "cell_type": "markdown",
   "metadata": {},
   "source": [
    "Vérifier visuellement les 10 premières valeurs de `lab_train` et les valeurs de `y_train` correspondantes :"
   ]
  },
  {
   "cell_type": "code",
   "execution_count": 17,
   "metadata": {},
   "outputs": [
    {
     "data": {
      "text/plain": [
       "(array([5, 0, 4, 1, 9, 2, 1, 3, 1, 4], dtype=uint8),\n",
       " array([[0., 0., 0., 0., 0., 1., 0., 0., 0., 0.],\n",
       "        [1., 0., 0., 0., 0., 0., 0., 0., 0., 0.],\n",
       "        [0., 0., 0., 0., 1., 0., 0., 0., 0., 0.],\n",
       "        [0., 1., 0., 0., 0., 0., 0., 0., 0., 0.],\n",
       "        [0., 0., 0., 0., 0., 0., 0., 0., 0., 1.],\n",
       "        [0., 0., 1., 0., 0., 0., 0., 0., 0., 0.],\n",
       "        [0., 1., 0., 0., 0., 0., 0., 0., 0., 0.],\n",
       "        [0., 0., 0., 1., 0., 0., 0., 0., 0., 0.],\n",
       "        [0., 1., 0., 0., 0., 0., 0., 0., 0., 0.],\n",
       "        [0., 0., 0., 0., 1., 0., 0., 0., 0., 0.]], dtype=float32))"
      ]
     },
     "execution_count": 17,
     "metadata": {},
     "output_type": "execute_result"
    }
   ],
   "source": [
    "lab_train[:10], y_train[:10]"
   ]
  },
  {
   "cell_type": "markdown",
   "metadata": {},
   "source": [
    "# 3 - Construction du réseau de neurones :"
   ]
  },
  {
   "cell_type": "markdown",
   "metadata": {},
   "source": [
    "On va maintenant construire un réseau de neurones **séquentiel** en **4 lignes** Python à l'aide du module **keras**.\n",
    "\n",
    "Les spécifications du réseau de neurones dense à construire sont :\n",
    "\n",
    "- Entrées : constituées des 784 pixels, mis sous forme d'un vecteur normalisé de 784 `float` de valeurs dans [0, 1];\n",
    "- Première couche : 784 neurones avec fonction d'activation `relu` (voir la page [tf.keras.activation.relu](https://www.tensorflow.org/api_docs/python/tf/keras/activations/relu))\n",
    "- Couche de sortie : 10 neurones avec fonction d'activation `softmax` pour convertir les sorties en probalibilités permettant de choisir une des 10 classes (voir la page [tf.keras.activation.softmax](https://www.tensorflow.org/api_docs/python/tf/keras/activations/softmax))\n",
    "- Fonction d'erreur : `categorical_crossentropy` (voir la page [tf.keras.categorical_crossentropy](https://www.tensorflow.org/api_docs/python/tf/keras/losses/categorical_crossentropy) :\n",
    "- Optimisation des poids des neurones par rétro-progation de l'erreur : algorithme de descente de gradient ADAM [tf.keras.optimizers.Adam](https://www.tensorflow.org/api_docs/python/tf/keras/optimizers/Adam) "
   ]
  },
  {
   "cell_type": "markdown",
   "metadata": {},
   "source": [
    "### Rendre les tirages aléatoires reproductibles"
   ]
  },
  {
   "cell_type": "markdown",
   "metadata": {},
   "source": [
    "Les poids d'un réseau de neurones sont initialisés par tirage aléatoire ; lorsqu'on invoque plusieurs fois de suite des générateurs aléatoires (comme `numpy.random.rand`...) on constate qu'à chaque invocation, on obtient une suite de valeurs aléatoires différentes :"
   ]
  },
  {
   "cell_type": "code",
   "execution_count": 18,
   "metadata": {},
   "outputs": [
    {
     "name": "stdout",
     "output_type": "stream",
     "text": [
      "[0.97353269 0.95158695 0.02915914 0.69609539 0.33370558]\n",
      "[0.98344224 0.47804394 0.05708574 0.99773449 0.95682952]\n"
     ]
    }
   ],
   "source": [
    "print(np.random.rand(5))\n",
    "print(np.random.rand(5))"
   ]
  },
  {
   "cell_type": "code",
   "execution_count": 19,
   "metadata": {},
   "outputs": [
    {
     "name": "stdout",
     "output_type": "stream",
     "text": [
      "[0.90468554 0.88462568 0.41963437 0.36520721 0.18166804]\n",
      "[0.72086243 0.26899628 0.53802029 0.52819519 0.73529592]\n"
     ]
    }
   ],
   "source": [
    "print(np.random.rand(5))\n",
    "print(np.random.rand(5))"
   ]
  },
  {
   "cell_type": "markdown",
   "metadata": {},
   "source": [
    "Ceci peut présenter un problème quand on veut étudier les performances d'un réseau entraîné en fonction de paramètres de construction : à chaque fois qu'on relance la cellule ou le notebook avec de nouvelles valeurs des paramètres, on obtient un état initial du réseau différent conduisant à un résultat de réseau entraîné différent...\n",
    "\n",
    "Pour éviter ce comportement, on peut fixer la **graine** (*seed*) des générateurs aléatoires de façon à produire des suites de nombres aléatoires **reproductibles**.<br>\n",
    "Les cellules suivantes illustrent le procédé :"
   ]
  },
  {
   "cell_type": "code",
   "execution_count": 20,
   "metadata": {},
   "outputs": [],
   "source": [
    "seed = 43"
   ]
  },
  {
   "cell_type": "code",
   "execution_count": 21,
   "metadata": {},
   "outputs": [
    {
     "data": {
      "text/plain": [
       "array([0.11505457, 0.60906654, 0.13339096, 0.24058962, 0.32713906])"
      ]
     },
     "execution_count": 21,
     "metadata": {},
     "output_type": "execute_result"
    }
   ],
   "source": [
    "np.random.seed(seed)\n",
    "np.random.rand(5)"
   ]
  },
  {
   "cell_type": "code",
   "execution_count": 22,
   "metadata": {},
   "outputs": [
    {
     "data": {
      "text/plain": [
       "array([0.11505457, 0.60906654, 0.13339096, 0.24058962, 0.32713906])"
      ]
     },
     "execution_count": 22,
     "metadata": {},
     "output_type": "execute_result"
    }
   ],
   "source": [
    "np.random.seed(seed)\n",
    "np.random.rand(5)"
   ]
  },
  {
   "cell_type": "markdown",
   "metadata": {},
   "source": [
    "## Construction du réseau de neurones dense \n",
    "\n",
    "Compléter la cellule ci-dessous pour instancier l'objet `model` selon les spécifications du réseau données, et en vous aidant des  :\n",
    "- de la classe `Sequential` : page [tf.keras.Sequential](https://www.tensorflow.org/api_docs/python/tf/keras/Sequential)\n",
    "- de la classe `Dense` : page [tf.keras.Sequential](https://www.tensorflow.org/api_docs/python/tf/keras/Sequential)\n",
    "\n",
    "Compiler `model` avec la mèthode `compile` (cf page []()) en utilisant :\n",
    "- la fonction d'erreur `categorical_crossentropy`\n",
    "- l'optimiseur `adam`\n",
    "- la métrique `accuracy`, qui permettra de tracer les courbes de performance."
   ]
  },
  {
   "cell_type": "code",
   "execution_count": 23,
   "metadata": {},
   "outputs": [],
   "source": [
    "import numpy as np\n",
    "from tensorflow.keras.models import Sequential\n",
    "from tensorflow.keras.layers import Dense \n",
    "\n",
    "nb_classes = 10\n",
    "np.random.seed(43)\n",
    "\n",
    "# les 4 lignes pour construire le réseau de neurones:\n",
    "model = Sequential()\n",
    "model.add(Dense(nb_pixels, input_dim=nb_pixels, activation='relu'))\n",
    "model.add(Dense(nb_classes, activation='softmax'))\n",
    "model.compile(loss='categorical_crossentropy', \n",
    "              optimizer='adam', \n",
    "              metrics=['accuracy'])"
   ]
  },
  {
   "cell_type": "markdown",
   "metadata": {},
   "source": [
    "Avec la méthode `summary` de l'objet `model`, faire afficher la description du modèle : retrouver les valeurs des paramètres..."
   ]
  },
  {
   "cell_type": "code",
   "execution_count": 24,
   "metadata": {},
   "outputs": [
    {
     "name": "stdout",
     "output_type": "stream",
     "text": [
      "Model: \"sequential\"\n",
      "_________________________________________________________________\n",
      "Layer (type)                 Output Shape              Param #   \n",
      "=================================================================\n",
      "dense (Dense)                (None, 784)               615440    \n",
      "_________________________________________________________________\n",
      "dense_1 (Dense)              (None, 10)                7850      \n",
      "=================================================================\n",
      "Total params: 623,290\n",
      "Trainable params: 623,290\n",
      "Non-trainable params: 0\n",
      "_________________________________________________________________\n"
     ]
    }
   ],
   "source": [
    "model.summary()"
   ]
  },
  {
   "cell_type": "markdown",
   "metadata": {},
   "source": [
    "Retrouver le nombre total de paramètres avec une formule simple ..."
   ]
  },
  {
   "cell_type": "code",
   "execution_count": 25,
   "metadata": {},
   "outputs": [
    {
     "data": {
      "text/plain": [
       "623290"
      ]
     },
     "execution_count": 25,
     "metadata": {},
     "output_type": "execute_result"
    }
   ],
   "source": [
    "785*784+785*10"
   ]
  },
  {
   "cell_type": "markdown",
   "metadata": {},
   "source": [
    "### Sauvegarder l'état initial du  réseau"
   ]
  },
  {
   "cell_type": "markdown",
   "metadata": {},
   "source": [
    "On peut sauvegarder l'état initial des poids du réseau non-entraîné (valeurs aléatoires) avec la méthode `Model.save_weights`. <br>\n",
    "Ce sera utile plus loin pour remettre le réseau à son état initial avant de relancer d'autres entraînements :"
   ]
  },
  {
   "cell_type": "code",
   "execution_count": 26,
   "metadata": {},
   "outputs": [
    {
     "name": "stdout",
     "output_type": "stream",
     "text": [
      "weights/initial.data-00000-of-00001\n",
      "weights/initial.index\n"
     ]
    }
   ],
   "source": [
    "import os\n",
    "if not os.path.exists(\"weights\"): os.mkdir(\"weights\")\n",
    "model.save_weights('weights/initial')\n",
    "\n",
    "files=[os.path.join(\"weights\",f) for f in os.listdir(\"weights\") if f.startswith(\"initial\")]\n",
    "for f in files: print(f)"
   ]
  },
  {
   "cell_type": "markdown",
   "metadata": {},
   "source": [
    "Attention : on donne le nom `\"initial\"` mais la méthode `Model.save_weights` l'utilise pour créer plusieurs fichiers préfixés par `\"initial\"`.<br>\n",
    "Lors de la lecture ultérieure des poids du réseau avec la méthode `Model.load_weights` il suffira de donner le même nom pour que cela fonctionne."
   ]
  },
  {
   "cell_type": "markdown",
   "metadata": {},
   "source": [
    "# 4 - Entraînement du réseau :"
   ]
  },
  {
   "cell_type": "markdown",
   "metadata": {},
   "source": [
    "Le modèle est entraîné sur les $60\\,000$ images :\n",
    "- en utilisant :\n",
    "    - les données d'entrée `x_train` (images mises à plat normalisées)\n",
    "    - les données de sortie `y_train` (labels one-hot codées).\n",
    "- un certain nombre de fois de suite (on pourra commencer avec 5) donné par le paramètre `epochs` , \n",
    "- avec mises à jour des poids (*back propagation*) toutes les 200 images (paramètre `batch_size`)"
   ]
  },
  {
   "cell_type": "code",
   "execution_count": 27,
   "metadata": {},
   "outputs": [
    {
     "name": "stdout",
     "output_type": "stream",
     "text": [
      "Epoch 1/5\n",
      "300/300 [==============================] - 3s 9ms/step - loss: 0.4836 - accuracy: 0.8655\n",
      "Epoch 2/5\n",
      "300/300 [==============================] - 3s 12ms/step - loss: 0.1229 - accuracy: 0.9644\n",
      "Epoch 3/5\n",
      "300/300 [==============================] - 3s 9ms/step - loss: 0.0728 - accuracy: 0.9791\n",
      "Epoch 4/5\n",
      "300/300 [==============================] - 3s 9ms/step - loss: 0.0499 - accuracy: 0.9866\n",
      "Epoch 5/5\n",
      "300/300 [==============================] - 3s 10ms/step - loss: 0.0331 - accuracy: 0.9911\n"
     ]
    }
   ],
   "source": [
    "# au cas on on exécuterait plusieurs fois cette cellule, il faut \n",
    "# prendre soin de bien de ré-initialiser les poids du réseau à leur valeurs aléatoires...\n",
    "model.load_weights(\"weights/initial\") \n",
    "\n",
    "hist = model.fit(x_train, y_train, \n",
    "                 epochs=5, \n",
    "                 batch_size=200, \n",
    "                 verbose=1)"
   ]
  },
  {
   "cell_type": "markdown",
   "metadata": {},
   "source": [
    "le résultat `hist` est un objet de type `tensorflow.python.keras.callbacks.History`, qui possède un attribut `history` de type `dict`, avec les clefs `loss` et `accuracy`"
   ]
  },
  {
   "cell_type": "code",
   "execution_count": 28,
   "metadata": {},
   "outputs": [
    {
     "data": {
      "text/plain": [
       "dict_keys(['loss', 'accuracy'])"
      ]
     },
     "execution_count": 28,
     "metadata": {},
     "output_type": "execute_result"
    }
   ],
   "source": [
    "hist.history.keys()"
   ]
  },
  {
   "cell_type": "code",
   "execution_count": 29,
   "metadata": {},
   "outputs": [
    {
     "data": {
      "text/plain": [
       "[0.27658703923225403,\n",
       " 0.11160886287689209,\n",
       " 0.07073900103569031,\n",
       " 0.04996959865093231,\n",
       " 0.035989824682474136]"
      ]
     },
     "execution_count": 29,
     "metadata": {},
     "output_type": "execute_result"
    }
   ],
   "source": [
    "hist.history['loss']"
   ]
  },
  {
   "cell_type": "markdown",
   "metadata": {},
   "source": [
    "### Tracé des courbes `accuracy` et `loss` :"
   ]
  },
  {
   "cell_type": "markdown",
   "metadata": {},
   "source": [
    "La fonction `plot` du module `utils` (présent dans le répertoire du notebook) permet de tracer les courbes de précision et de perte en utilisant les données stockées dans l'objet `hist` :"
   ]
  },
  {
   "cell_type": "code",
   "execution_count": 30,
   "metadata": {},
   "outputs": [
    {
     "data": {
      "image/png": "[encoded data removed]",
      "text/plain": [
       "<Figure size 1080x360 with 2 Axes>"
      ]
     },
     "metadata": {
      "needs_background": "light"
     },
     "output_type": "display_data"
    }
   ],
   "source": [
    "from utils import plot\n",
    "plot(hist)"
   ]
  },
  {
   "cell_type": "markdown",
   "metadata": {},
   "source": [
    "On peut penser qu'augmenter le nombre d'`epochs` peut permettre d'aumengenter les performances du réseau... mais en fait on court le risque de sur-entraînner le réseau (*over-fit*)"
   ]
  },
  {
   "cell_type": "markdown",
   "metadata": {},
   "source": [
    "## 4.1 - Entraînement du réseau avec tests pendant l'entraînement"
   ]
  },
  {
   "cell_type": "markdown",
   "metadata": {},
   "source": [
    "Pour avoir un meilleur indicateur sur la qualité de l'entraînement du réseau, il est intéressant de tester à chaque `epoch` la précison du réseau entraîné en utilisant les données de test. Ceci permet d'avoir une meilleur évaluation de l'évolution de la précision du réseau calculée avec les données du test (clef `val_accuracy`) :"
   ]
  },
  {
   "cell_type": "code",
   "execution_count": 31,
   "metadata": {},
   "outputs": [
    {
     "name": "stdout",
     "output_type": "stream",
     "text": [
      "Epoch 1/10\n",
      "300/300 [==============================] - 4s 13ms/step - loss: 0.2415 - accuracy: 0.9287 - val_loss: 0.1141 - val_accuracy: 0.9662\n",
      "Epoch 2/10\n",
      "300/300 [==============================] - 4s 12ms/step - loss: 0.0937 - accuracy: 0.9723 - val_loss: 0.0820 - val_accuracy: 0.9761\n",
      "Epoch 3/10\n",
      "300/300 [==============================] - 3s 10ms/step - loss: 0.0614 - accuracy: 0.9819 - val_loss: 0.0725 - val_accuracy: 0.9785\n",
      "Epoch 4/10\n",
      "300/300 [==============================] - 3s 10ms/step - loss: 0.0428 - accuracy: 0.9876 - val_loss: 0.0654 - val_accuracy: 0.9794\n",
      "Epoch 5/10\n",
      "300/300 [==============================] - 3s 9ms/step - loss: 0.0316 - accuracy: 0.9914 - val_loss: 0.0611 - val_accuracy: 0.9813\n",
      "Epoch 6/10\n",
      "300/300 [==============================] - 3s 9ms/step - loss: 0.0219 - accuracy: 0.9946 - val_loss: 0.0563 - val_accuracy: 0.9827\n",
      "Epoch 7/10\n",
      "300/300 [==============================] - 3s 10ms/step - loss: 0.0166 - accuracy: 0.9962 - val_loss: 0.0566 - val_accuracy: 0.9825\n",
      "Epoch 8/10\n",
      "300/300 [==============================] - 3s 10ms/step - loss: 0.0123 - accuracy: 0.9973 - val_loss: 0.0564 - val_accuracy: 0.9831\n",
      "Epoch 9/10\n",
      "300/300 [==============================] - 3s 10ms/step - loss: 0.0097 - accuracy: 0.9981 - val_loss: 0.0636 - val_accuracy: 0.9815\n",
      "Epoch 10/10\n",
      "300/300 [==============================] - 3s 9ms/step - loss: 0.0070 - accuracy: 0.9990 - val_loss: 0.0614 - val_accuracy: 0.9824\n"
     ]
    }
   ],
   "source": [
    "model.load_weights(\"weights/initial\")\n",
    "\n",
    "hist = model.fit(x_train, y_train,\n",
    "                 validation_data=(x_test, y_test), # jeu de données qui sera utilé à la fin de cheque epoch\n",
    "                 epochs=10, \n",
    "                 batch_size=200, \n",
    "                 verbose=1)"
   ]
  },
  {
   "cell_type": "markdown",
   "metadata": {},
   "source": [
    "On a cette fois non seulement les valeurs `loss` et `accuracy` mais aussi `val_loss` et `val_accuracy` calculées en faisant tourner le réseau à chaque `epoch` avec les données de test :"
   ]
  },
  {
   "cell_type": "code",
   "execution_count": 32,
   "metadata": {},
   "outputs": [
    {
     "data": {
      "image/png": "[encoded data removed]",
      "text/plain": [
       "<Figure size 1080x360 with 2 Axes>"
      ]
     },
     "metadata": {
      "needs_background": "light"
     },
     "output_type": "display_data"
    }
   ],
   "source": [
    "plot(hist)"
   ]
  },
  {
   "cell_type": "markdown",
   "metadata": {},
   "source": [
    "On voit clairement que la précision calculée avec les données de Test tend vers une limite voisine de 0.98 . <br />\n",
    "Les performances du réseau peuvent même se dégrader si on continue l'entraînement (phénomène connu sous le nom de sur-apprentissage (aka *over fiting*)."
   ]
  },
  {
   "cell_type": "markdown",
   "metadata": {},
   "source": [
    "### Arrêter l'entrainement avant l'*over-fit*\n",
    "\n",
    "Keras propose des mécanismes permettant d'arrêter automatiquement l'apprentissage en surveillant par exemple la croissance de la précision d'une `epoch` à l'autre.<br>\n",
    "Ce point est traité dans le notebook `TP2_MNIST_dense_overfit.ipynb`."
   ]
  },
  {
   "cell_type": "markdown",
   "metadata": {},
   "source": [
    "### Sauvegarder les poids du  réseau entraîné"
   ]
  },
  {
   "cell_type": "markdown",
   "metadata": {},
   "source": [
    "La méthode `Model.save_weights` permet d'enregistrer les **poids** du réseau entraïné dans un fichier :"
   ]
  },
  {
   "cell_type": "code",
   "execution_count": 33,
   "metadata": {},
   "outputs": [
    {
     "name": "stdout",
     "output_type": "stream",
     "text": [
      "weights/checkpoint\n",
      "weights/check_points.data-00000-of-00001\n",
      "weights/check_points.index\n"
     ]
    }
   ],
   "source": [
    "import os\n",
    "if not os.path.exists(\"weights\"): os.mkdir(\"weights\")\n",
    "model.save_weights('weights/check_points')\n",
    "files=[os.path.join(\"weights\",f) for f in os.listdir(\"weights\") if f.startswith(\"check\")]\n",
    "for f in files: print(f)"
   ]
  },
  {
   "cell_type": "markdown",
   "metadata": {},
   "source": [
    "### Sauvegarder la strucure du réseau et ses poids"
   ]
  },
  {
   "cell_type": "markdown",
   "metadata": {},
   "source": [
    "La méthode `Model.save` permet d'enregistrer **toute la structure et les poids** du réseau entraïné dans un fichier.<br />\n",
    "Ceci permet de recréer plus tard *from scratch* le réseau entrainé pour passer en phase exploitation du réseau par exemple, en utilisant la fonction`tf.keras.models.load_model` :"
   ]
  },
  {
   "cell_type": "code",
   "execution_count": 34,
   "metadata": {},
   "outputs": [
    {
     "name": "stdout",
     "output_type": "stream",
     "text": [
      "INFO:tensorflow:Assets written to: models/model1/assets\n",
      "models/model1\n"
     ]
    }
   ],
   "source": [
    "import os\n",
    "if not os.path.exists(\"models\"): os.mkdir(\"models\")\n",
    "model.save('models/model1') \n",
    "files=[os.path.join(\"models\",f) for f in os.listdir(\"models\") if f.startswith(\"model\")]\n",
    "for f in files: print(f)"
   ]
  },
  {
   "cell_type": "markdown",
   "metadata": {},
   "source": [
    "# 5/ Vérication de l'apprentissage avec le jeu de test"
   ]
  },
  {
   "cell_type": "markdown",
   "metadata": {},
   "source": [
    "La méthode `predict` permet de demander au modèle sa prédiction pour une ou plusieurs entrées.<BR />\n",
    "Exemple de prédition pour une image test numéro i dans le jeu d'images de test (0 <= i <= 10000) :"
   ]
  },
  {
   "cell_type": "code",
   "execution_count": 35,
   "metadata": {},
   "outputs": [
    {
     "name": "stdout",
     "output_type": "stream",
     "text": [
      "valeur trouvée par le réseau de neurones pour la 1000ème image :\n",
      "\t[0.0000 0.0000 0.0000 0.0002 0.0000 0.0000 0.0000 0.0002 0.0000 0.9996]\n",
      "\n",
      "valeur arrondie à 1 chiffre : [0.0 0.0 0.0 0.0 0.0 0.0 0.0 0.0 0.0 1.0]\n",
      "rep[0].argmax() donne : 9\n",
      "\n",
      "La bonne réponse est 9, soit en 'hot coded' : [0.0 0.0 0.0 0.0 0.0 0.0 0.0 0.0 0.0 1.0]\n"
     ]
    },
    {
     "data": {
      "image/png": "[encoded data removed]",
      "text/plain": [
       "<Figure size 72x72 with 1 Axes>"
      ]
     },
     "metadata": {},
     "output_type": "display_data"
    }
   ],
   "source": [
    "i = 1000\n",
    "rep = model.predict(x_test[i:i+1])\n",
    "\n",
    "np.set_printoptions(formatter={'float':'{:0.4f}'.format})\n",
    "print(f\"valeur trouvée par le réseau de neurones pour la {i}ème image :\\n\\t{rep[0]}\\n\")\n",
    "\n",
    "np.set_printoptions(formatter={'float':'{:0.1f}'.format})\n",
    "print(f\"valeur arrondie à 1 chiffre : {rep[0]}\")\n",
    "print(f\"rep[0].argmax() donne : {rep[0].argmax()}\")\n",
    "\n",
    "plt.figure(figsize=(1,1))\n",
    "digit = im_test[i]\n",
    "plt.imshow(digit, cmap='gray');\n",
    "plt.xticks([]); plt.yticks([])\n",
    "\n",
    "print(f\"\\nLa bonne réponse est {lab_test[i]}, soit en 'hot coded' : {y_test[i]}\")"
   ]
  },
  {
   "cell_type": "markdown",
   "metadata": {},
   "source": [
    "Écrire les instructions Python pour calculer avec les données de test le pourcentage d'erreur du réseau entrainé.... <br/> \n",
    "Conseil: la variable rep contient pour chaque image une liste de 10 probabilités, il pourra être utile d'utiliser la fonction `argmax` de la librairie numpy pour obtenir le chiffre de plus haute probabilité."
   ]
  },
  {
   "cell_type": "code",
   "execution_count": 36,
   "metadata": {},
   "outputs": [
    {
     "name": "stdout",
     "output_type": "stream",
     "text": [
      "taux de réussite : 98.24 %\n"
     ]
    }
   ],
   "source": [
    "results = model.predict(x_test)\n",
    "bonne_rep = 0\n",
    "for i, res in enumerate(results):\n",
    "    bonne_rep += (np.argmax(res) == lab_test[i])\n",
    "print(f\"taux de réussite : {bonne_rep/len(x_test)*100:.2f} %\")"
   ]
  },
  {
   "cell_type": "markdown",
   "metadata": {},
   "source": [
    "### 5.1 - Afficher la matrice de confusion"
   ]
  },
  {
   "cell_type": "markdown",
   "metadata": {},
   "source": [
    "La cellule suivante affiche la **matrice de confusion** en utilisant les modules `sklearn` et `seaborn` :"
   ]
  },
  {
   "cell_type": "code",
   "execution_count": 37,
   "metadata": {},
   "outputs": [
    {
     "name": "stdout",
     "output_type": "stream",
     "text": [
      "False predictions: 176/10000\n",
      "Pred: [9 2 7 3 4 0 2 2 7 8 1 3 8 7 7 9 4 2 0 5 6 8 4 2 4 9 5 1 3 9 3 3 7 6 6 6 7\n",
      " 8 2 3 4 0 9 3 4 9 1 0 7 0 1 2 6 0 0 1 4 4 4 4 3 1 0 1 4 3 7 0 2 7 5 5 2 9\n",
      " 9 0 1 4 0 5 3 2 6 8 4 1 4 4 6 3 2 5 4 2 3 3 3 7 4 9 7 7 8 7 4 2 2 7 7 7 5\n",
      " 4 4 3 7 5 3 4 6 8 4 8 5 4 6 8 5 3 7 5 7 9 3 3 8 9 9 9 3 9 7 6 7 4 5 7 6 4\n",
      " 4 7 3 4 0 8 4 4 6 6 2 2 2 5 4 7 3 7 6 0 6 0 0 7 5 4 7 8]\n",
      "Real: [2 4 2 5 9 6 8 8 2 1 2 7 5 8 9 8 5 1 6 6 4 7 9 7 9 4 9 7 8 7 5 2 8 4 2 0 3\n",
      " 2 6 8 9 2 0 8 8 4 8 2 3 6 6 1 5 8 9 9 9 6 9 2 5 7 9 6 9 5 4 8 3 9 3 8 1 5\n",
      " 8 6 9 6 5 8 9 7 4 7 0 7 9 9 5 1 4 3 9 0 9 8 2 2 6 7 1 9 2 2 9 3 3 8 2 9 6\n",
      " 7 8 8 8 3 8 9 8 0 8 3 8 6 1 1 1 4 3 8 9 4 5 5 3 3 3 3 9 8 9 2 0 8 0 8 1 9\n",
      " 6 2 0 2 8 2 8 6 0 8 7 7 7 8 9 2 6 9 5 4 5 2 5 4 6 9 2 3]\n"
     ]
    },
    {
     "data": {
      "image/png": "[encoded data removed]",
      "text/plain": [
       "<Figure size 720x576 with 2 Axes>"
      ]
     },
     "metadata": {
      "needs_background": "light"
     },
     "output_type": "display_data"
    }
   ],
   "source": [
    "import pandas as pd\n",
    "import seaborn as sn\n",
    "from sklearn.metrics import confusion_matrix\n",
    "\n",
    "classes   = np.array([0,1,2,3,4,5,6,7,8,9])\n",
    "predicted = np.argmax(model.predict(x_test), axis=-1)\n",
    "target    = np.argmax(y_test, axis=1)\n",
    "\n",
    "fail = [x != y for x,y in zip(predicted, target)]\n",
    "print(\"False predictions: %d/%d\" % (np.sum(fail), len(results)))\n",
    "print(\"Pred:\", predicted[fail])   # print only predicted[True] skipping predicted[False]\n",
    "print(\"Real:\", target[fail])\n",
    "\n",
    "cm = confusion_matrix(target,predicted)\n",
    "df_cm = pd.DataFrame(cm, index=classes, columns=classes)\n",
    "plt.figure(figsize=(10,8))\n",
    "sn.heatmap(df_cm, annot=True)\n",
    "plt.show()"
   ]
  },
  {
   "cell_type": "markdown",
   "metadata": {},
   "source": [
    "# 6/ Évolution du réseau : augmentation du nombre de couches cahées "
   ]
  },
  {
   "cell_type": "markdown",
   "metadata": {},
   "source": [
    "On peut essayer de construire un réseau avec plus de couches. Par exemple :\n",
    "- couche d'entrée avec les 784 pixels\n",
    "- couche cachée 1 : 784 neurones, fonction d'activation `relu`\n",
    "- couche cachée 2 : 300 neurones, fonction d'activation `relu`\n",
    "- couche cachée 3 : 100 neurones, fonction d'activation `relu`    \n",
    "- couche de sortie : 10 neurone, fonction d'activation `softmax`."
   ]
  },
  {
   "cell_type": "markdown",
   "metadata": {},
   "source": [
    "Construire le réseau `model2` correspondant avec Keras..."
   ]
  },
  {
   "cell_type": "code",
   "execution_count": 38,
   "metadata": {},
   "outputs": [],
   "source": [
    "np.random.seed(43)\n",
    "model2 = Sequential()\n",
    "model2.add(Dense(784, input_dim=784, activation='relu'))\n",
    "model2.add(Dense(300, activation='relu'))\n",
    "model2.add(Dense(100, activation='relu'))\n",
    "model2.add(Dense(10, activation='softmax'))\n",
    "model2.compile(loss='categorical_crossentropy', optimizer='adam', metrics=['accuracy'])"
   ]
  },
  {
   "cell_type": "markdown",
   "metadata": {},
   "source": [
    "Avec la méthode `summary` de l'objet `model2`, faire afficher la description du modèle : expliquer les valeurs des paramètres..."
   ]
  },
  {
   "cell_type": "code",
   "execution_count": 39,
   "metadata": {},
   "outputs": [
    {
     "name": "stdout",
     "output_type": "stream",
     "text": [
      "Model: \"sequential_1\"\n",
      "_________________________________________________________________\n",
      "Layer (type)                 Output Shape              Param #   \n",
      "=================================================================\n",
      "dense_2 (Dense)              (None, 784)               615440    \n",
      "_________________________________________________________________\n",
      "dense_3 (Dense)              (None, 300)               235500    \n",
      "_________________________________________________________________\n",
      "dense_4 (Dense)              (None, 100)               30100     \n",
      "_________________________________________________________________\n",
      "dense_5 (Dense)              (None, 10)                1010      \n",
      "=================================================================\n",
      "Total params: 882,050\n",
      "Trainable params: 882,050\n",
      "Non-trainable params: 0\n",
      "_________________________________________________________________\n"
     ]
    }
   ],
   "source": [
    "model2.summary()"
   ]
  },
  {
   "cell_type": "markdown",
   "metadata": {},
   "source": [
    "`plot_model` permet de dessiner la structure du réseau :"
   ]
  },
  {
   "cell_type": "code",
   "execution_count": 40,
   "metadata": {},
   "outputs": [
    {
     "data": {
      "image/png": "[encoded data removed]",
      "text/plain": [
       "<IPython.core.display.Image object>"
      ]
     },
     "execution_count": 40,
     "metadata": {},
     "output_type": "execute_result"
    }
   ],
   "source": [
    "tf.keras.utils.plot_model(model2, show_shapes=True)"
   ]
  },
  {
   "cell_type": "markdown",
   "metadata": {},
   "source": [
    "Entraînner le réseau `model2` avec les mêmes données que `model`, et faire tracer les courbes de précission et d'erreur :"
   ]
  },
  {
   "cell_type": "code",
   "execution_count": 41,
   "metadata": {},
   "outputs": [
    {
     "name": "stdout",
     "output_type": "stream",
     "text": [
      "Epoch 1/10\n",
      "300/300 [==============================] - 5s 15ms/step - loss: 0.4596 - accuracy: 0.8627 - val_loss: 0.0958 - val_accuracy: 0.9701\n",
      "Epoch 2/10\n",
      "300/300 [==============================] - 4s 15ms/step - loss: 0.0855 - accuracy: 0.9745 - val_loss: 0.0739 - val_accuracy: 0.9763\n",
      "Epoch 3/10\n",
      "300/300 [==============================] - 4s 14ms/step - loss: 0.0528 - accuracy: 0.9836 - val_loss: 0.0743 - val_accuracy: 0.9782\n",
      "Epoch 4/10\n",
      "300/300 [==============================] - 4s 15ms/step - loss: 0.0375 - accuracy: 0.9882 - val_loss: 0.0672 - val_accuracy: 0.9799\n",
      "Epoch 5/10\n",
      "300/300 [==============================] - 4s 15ms/step - loss: 0.0245 - accuracy: 0.9923 - val_loss: 0.0662 - val_accuracy: 0.9798\n",
      "Epoch 6/10\n",
      "300/300 [==============================] - 4s 14ms/step - loss: 0.0202 - accuracy: 0.9931 - val_loss: 0.0668 - val_accuracy: 0.9818\n",
      "Epoch 7/10\n",
      "300/300 [==============================] - 4s 14ms/step - loss: 0.0173 - accuracy: 0.9944 - val_loss: 0.0753 - val_accuracy: 0.9797\n",
      "Epoch 8/10\n",
      "300/300 [==============================] - 5s 15ms/step - loss: 0.0145 - accuracy: 0.9950 - val_loss: 0.0634 - val_accuracy: 0.9822\n",
      "Epoch 9/10\n",
      "300/300 [==============================] - 4s 15ms/step - loss: 0.0128 - accuracy: 0.9958 - val_loss: 0.0687 - val_accuracy: 0.9827\n",
      "Epoch 10/10\n",
      "300/300 [==============================] - 4s 14ms/step - loss: 0.0106 - accuracy: 0.9967 - val_loss: 0.0761 - val_accuracy: 0.9796\n"
     ]
    }
   ],
   "source": [
    "hist2 = model2.fit(x_train, y_train, \n",
    "                   validation_data=(x_test, y_test), \n",
    "                   epochs=10, \n",
    "                   batch_size=200, \n",
    "                   verbose=1)"
   ]
  },
  {
   "cell_type": "code",
   "execution_count": 42,
   "metadata": {},
   "outputs": [
    {
     "data": {
      "image/png": "[encoded data removed]",
      "text/plain": [
       "<Figure size 1080x360 with 2 Axes>"
      ]
     },
     "metadata": {
      "needs_background": "light"
     },
     "output_type": "display_data"
    }
   ],
   "source": [
    "plot(hist2)"
   ]
  },
  {
   "cell_type": "markdown",
   "metadata": {},
   "source": [
    "Augmenter le nombre de couches a t'il un impact sur les performances du réseau ?<br />\n",
    "Que peut on conclure sur l'utilité de complexifier ce type de réseau ?"
   ]
  },
  {
   "cell_type": "markdown",
   "metadata": {},
   "source": [
    "Double-clic ici pour inscrire ta réponse : pas vraimment => ce n'est pas utile de complexifier le réseau."
   ]
  },
  {
   "cell_type": "markdown",
   "metadata": {},
   "source": [
    "# 7/ Utiliser le réseau avec ses propres images"
   ]
  },
  {
   "cell_type": "markdown",
   "metadata": {},
   "source": [
    "On va utiliser le réseau entrainé pour voir comment il réagit avec des chiffres \"écrits à la main\" différents des chiffres de la banque MNIST...<br />\n",
    "Pour cela on utilise les images du dossier `chiffres` :"
   ]
  },
  {
   "cell_type": "code",
   "execution_count": 43,
   "metadata": {},
   "outputs": [
    {
     "name": "stdout",
     "output_type": "stream",
     "text": [
      "Images du dossier 'chiffres' :\n",
      "chiffres/0_jlc.png\n",
      "chiffres/1_jlc.png\n",
      "chiffres/2_jlc.png\n",
      "chiffres/3_jlc.png\n",
      "chiffres/4_jlc.png\n",
      "chiffres/5_jlc.png\n",
      "chiffres/6_jlc.png\n",
      "chiffres/7_jlc.png\n",
      "chiffres/8_jlc.png\n",
      "chiffres/9_jlc.png\n"
     ]
    }
   ],
   "source": [
    "import os\n",
    "images = ['chiffres/'+f for f in os.listdir('chiffres') if f.endswith(\".png\")]\n",
    "images.sort()\n",
    "print(\"Images du dossier 'chiffres' :\")\n",
    "for im in images: print(im)"
   ]
  },
  {
   "cell_type": "markdown",
   "metadata": {},
   "source": [
    "### Lecture des fichiers image avec openCV"
   ]
  },
  {
   "cell_type": "code",
   "execution_count": 44,
   "metadata": {},
   "outputs": [
    {
     "data": {
      "text/plain": [
       "((10, 28, 28), dtype('uint8'))"
      ]
     },
     "execution_count": 44,
     "metadata": {},
     "output_type": "execute_result"
    }
   ],
   "source": [
    "import cv2\n",
    "# lecture des images -> matrices ndarray 28x28 \n",
    "input_data = [255-cv2.cvtColor(cv2.imread(image),cv2.COLOR_BGR2GRAY) for image in images]\n",
    "input_data = np.array(input_data)\n",
    "input_data.shape, input_data.dtype  # on doit avoir 10 matrices de 28 x 28 valeurs "
   ]
  },
  {
   "cell_type": "markdown",
   "metadata": {},
   "source": [
    "#### Visualistion des images :"
   ]
  },
  {
   "cell_type": "code",
   "execution_count": 45,
   "metadata": {},
   "outputs": [
    {
     "data": {
      "image/png": "[encoded data removed]",
      "text/plain": [
       "<Figure size 1080x360 with 10 Axes>"
      ]
     },
     "metadata": {},
     "output_type": "display_data"
    }
   ],
   "source": [
    "plt.figure(figsize=(15,5))\n",
    "for i,M in enumerate(input_data):  \n",
    "    plt.subplot(1,12,i+1)\n",
    "    plt.imshow(input_data[i], cmap='gray', interpolation='none');\n",
    "    plt.xticks([]); plt.yticks([])"
   ]
  },
  {
   "cell_type": "markdown",
   "metadata": {},
   "source": [
    "transformation des matrices 28x28 en vecteurs de float normalisés :"
   ]
  },
  {
   "cell_type": "code",
   "execution_count": 46,
   "metadata": {},
   "outputs": [],
   "source": [
    "nb_images = input_data.shape[0]\n",
    "# mise 'à plat' des matrices sous forme de vecteurs de floats normalisés :\n",
    "x_photo = input_data.reshape(nb_images, 28*28)/255."
   ]
  },
  {
   "cell_type": "markdown",
   "metadata": {},
   "source": [
    "prédiction du réseau entrainé, avec les images perso :"
   ]
  },
  {
   "cell_type": "code",
   "execution_count": 47,
   "metadata": {},
   "outputs": [
    {
     "name": "stdout",
     "output_type": "stream",
     "text": [
      "[[0.57 0.00 0.19 0.09 0.00 0.11 0.00 0.00 0.00 0.03]\n",
      " [0.00 0.90 0.00 0.02 0.01 0.01 0.01 0.01 0.02 0.02]\n",
      " [0.00 0.00 0.99 0.00 0.00 0.00 0.00 0.00 0.01 0.00]\n",
      " [0.00 0.00 0.00 1.00 0.00 0.00 0.00 0.00 0.00 0.00]\n",
      " [0.00 0.00 0.00 0.00 1.00 0.00 0.00 0.00 0.00 0.00]\n",
      " [0.00 0.00 0.00 0.00 0.00 1.00 0.00 0.00 0.00 0.00]\n",
      " [0.00 0.01 0.01 0.00 0.00 0.10 0.88 0.00 0.00 0.00]\n",
      " [0.00 0.14 0.09 0.11 0.21 0.01 0.00 0.42 0.02 0.00]\n",
      " [0.06 0.00 0.03 0.09 0.01 0.05 0.06 0.00 0.69 0.00]\n",
      " [0.00 0.00 0.00 0.98 0.00 0.02 0.00 0.00 0.00 0.00]]\n"
     ]
    }
   ],
   "source": [
    "np.set_printoptions(formatter={'float': '{:0.2f}'.format})  # demander à numpy d'afficher 2 décimales\n",
    "\n",
    "rep = model.predict(x_photo)\n",
    "print(rep)"
   ]
  },
  {
   "cell_type": "code",
   "execution_count": 48,
   "metadata": {},
   "outputs": [
    {
     "data": {
      "text/plain": [
       "[0, 1, 2, 3, 4, 5, 6, 7, 8, 3]"
      ]
     },
     "execution_count": 48,
     "metadata": {},
     "output_type": "execute_result"
    }
   ],
   "source": [
    "[r.argmax() for r in rep]"
   ]
  },
  {
   "cell_type": "code",
   "execution_count": 49,
   "metadata": {},
   "outputs": [
    {
     "name": "stdout",
     "output_type": "stream",
     "text": [
      "0 avec la probablilité 0.57\n",
      "1 avec la probablilité 0.90\n",
      "2 avec la probablilité 0.99\n",
      "3 avec la probablilité 1.00\n",
      "4 avec la probablilité 1.00\n",
      "5 avec la probablilité 1.00\n",
      "6 avec la probablilité 0.88\n",
      "7 avec la probablilité 0.42\n",
      "8 avec la probablilité 0.69\n",
      "3 avec la probablilité 0.98\n"
     ]
    }
   ],
   "source": [
    "for r in rep:\n",
    "    print(f\"{r.argmax()} avec la probablilité {r.max():.2f}\")"
   ]
  },
  {
   "cell_type": "code",
   "execution_count": 50,
   "metadata": {},
   "outputs": [
    {
     "name": "stdout",
     "output_type": "stream",
     "text": [
      "False predictions: 1/10\n",
      "Pred: [3]\n",
      "Real: [9]\n"
     ]
    },
    {
     "data": {
      "image/png": "[encoded data removed]",
      "text/plain": [
       "<Figure size 576x432 with 2 Axes>"
      ]
     },
     "metadata": {
      "needs_background": "light"
     },
     "output_type": "display_data"
    }
   ],
   "source": [
    "classes = np.array([0,1,2,3,4,5,6,7,8,9])\n",
    "\n",
    "predicted = np.array([r.argmax() for r in rep])\n",
    "target    = np.array([0,1,2,3,4,5,6,7,8,9])\n",
    "\n",
    "fail = [x != y for x,y in zip(predicted, target)]\n",
    "print(\"False predictions: %d/%d\" % (np.sum(fail), len(predicted)))\n",
    "print(\"Pred:\", predicted[fail])   # print only predicted[True] skipping predicted[False]\n",
    "print(\"Real:\", target[fail])\n",
    "\n",
    "cm = confusion_matrix(target,predicted)\n",
    "df_cm = pd.DataFrame(cm, index=classes, columns=classes)\n",
    "plt.figure(figsize=(8,6))\n",
    "sn.heatmap(df_cm, annot=True)\n",
    "plt.show()"
   ]
  },
  {
   "cell_type": "markdown",
   "metadata": {},
   "source": [
    "Avec le deuxième réseau dense :"
   ]
  },
  {
   "cell_type": "code",
   "execution_count": 51,
   "metadata": {},
   "outputs": [
    {
     "name": "stdout",
     "output_type": "stream",
     "text": [
      "[[0.99 0.00 0.00 0.00 0.00 0.00 0.00 0.00 0.00 0.00]\n",
      " [0.00 0.98 0.00 0.00 0.00 0.00 0.00 0.00 0.02 0.00]\n",
      " [0.00 0.00 1.00 0.00 0.00 0.00 0.00 0.00 0.00 0.00]\n",
      " [0.00 0.00 0.00 1.00 0.00 0.00 0.00 0.00 0.00 0.00]\n",
      " [0.00 0.00 0.00 0.00 1.00 0.00 0.00 0.00 0.00 0.00]\n",
      " [0.00 0.00 0.00 0.00 0.00 1.00 0.00 0.00 0.00 0.00]\n",
      " [0.00 0.00 0.00 0.00 0.00 0.98 0.01 0.00 0.01 0.00]\n",
      " [0.00 0.00 0.00 1.00 0.00 0.00 0.00 0.00 0.00 0.00]\n",
      " [0.00 0.00 0.01 0.08 0.00 0.80 0.02 0.00 0.08 0.00]\n",
      " [0.00 0.00 0.00 1.00 0.00 0.00 0.00 0.00 0.00 0.00]]\n"
     ]
    }
   ],
   "source": [
    "rep = model2.predict(x_photo)\n",
    "print(rep)"
   ]
  },
  {
   "cell_type": "code",
   "execution_count": 52,
   "metadata": {},
   "outputs": [
    {
     "data": {
      "text/plain": [
       "[0, 1, 2, 3, 4, 5, 5, 3, 5, 3]"
      ]
     },
     "execution_count": 52,
     "metadata": {},
     "output_type": "execute_result"
    }
   ],
   "source": [
    "[r.argmax() for r in rep]"
   ]
  },
  {
   "cell_type": "code",
   "execution_count": 53,
   "metadata": {},
   "outputs": [
    {
     "name": "stdout",
     "output_type": "stream",
     "text": [
      "0 avec la probablilité 0.99\n",
      "1 avec la probablilité 0.98\n",
      "2 avec la probablilité 1.00\n",
      "3 avec la probablilité 1.00\n",
      "4 avec la probablilité 1.00\n",
      "5 avec la probablilité 1.00\n",
      "5 avec la probablilité 0.98\n",
      "3 avec la probablilité 1.00\n",
      "5 avec la probablilité 0.80\n",
      "3 avec la probablilité 1.00\n"
     ]
    }
   ],
   "source": [
    "for r in rep:\n",
    "    print(f\"{r.argmax()} avec la probablilité {r.max():.2f}\")"
   ]
  },
  {
   "cell_type": "code",
   "execution_count": 54,
   "metadata": {},
   "outputs": [
    {
     "name": "stdout",
     "output_type": "stream",
     "text": [
      "False predictions: 4/10\n",
      "Pred: [5 3 5 3]\n",
      "Real: [6 7 8 9]\n"
     ]
    },
    {
     "data": {
      "image/png": "[encoded data removed]",
      "text/plain": [
       "<Figure size 576x432 with 2 Axes>"
      ]
     },
     "metadata": {
      "needs_background": "light"
     },
     "output_type": "display_data"
    }
   ],
   "source": [
    "classes = np.array([0,1,2,3,4,5,6,7,8,9])\n",
    "\n",
    "predicted = np.array([r.argmax() for r in rep])\n",
    "target    = np.array([0,1,2,3,4,5,6,7,8,9])\n",
    "\n",
    "fail = [x != y for x,y in zip(predicted, target)]\n",
    "print(\"False predictions: %d/%d\" % (np.sum(fail), len(predicted)))\n",
    "print(\"Pred:\", predicted[fail])   # print only predicted[True] skipping predicted[False]\n",
    "print(\"Real:\", target[fail])\n",
    "\n",
    "cm = confusion_matrix(target,predicted)\n",
    "df_cm = pd.DataFrame(cm, index=classes, columns=classes)\n",
    "plt.figure(figsize=(8,6))\n",
    "sn.heatmap(df_cm, annot=True)\n",
    "plt.show()"
   ]
  },
  {
   "cell_type": "markdown",
   "metadata": {},
   "source": [
    "beaucoup mieux ?"
   ]
  },
  {
   "cell_type": "markdown",
   "metadata": {},
   "source": [
    "Les résultats montrent :\n",
    "- que le réseau à 1 seule couche cachée et à 2 couches cachées donnent des performances proches pour les images MNIST,\n",
    "- que l'apprentissage d'un réseau dense reste assez sensible à la nature du jeu de données : les images de chiffres faites 'maison' ne ressemblent pas tout à fait à celles de la banque MNIST, d'où des erreurs de classification avec un simple réseau dense."
   ]
  },
  {
   "cell_type": "markdown",
   "metadata": {},
   "source": [
    "# La suite....\n",
    "\n",
    "Pour aller au-delà des 98% de reconnaissance des chiffres, il faut passer à une autre architecture de réseau plus adaptée au traitement des images : les réseaux **convolutionnels**, traités dans le prochain cahier IPython `TP3_MNIST_convol.ipynb`."
   ]
  },
  {
   "cell_type": "markdown",
   "metadata": {},
   "source": [
    "# Autres ressources intéressantes... des vidéos :"
   ]
  },
  {
   "cell_type": "code",
   "execution_count": 64,
   "metadata": {},
   "outputs": [
    {
     "data": {
      "text/html": [
       "<iframe src=\"https://www.youtube.com/embed/trWrEWfhTVg\" width=\"800\" height=\"450\" frameborder=\"0\" allow=\"accelerometer; autoplay; encrypted-media; gyroscope; picture-in-picture\" allowfullscreen></iframe>\n"
      ],
      "text/plain": [
       "<IPython.core.display.HTML object>"
      ]
     },
     "metadata": {},
     "output_type": "display_data"
    }
   ],
   "source": [
    "%%HTML\n",
    "<iframe src=\"https://www.youtube.com/embed/trWrEWfhTVg\" width=\"800\" height=\"450\" frameborder=\"0\" allow=\"accelerometer; autoplay; encrypted-media; gyroscope; picture-in-picture\" allowfullscreen></iframe>"
   ]
  },
  {
   "cell_type": "code",
   "execution_count": 1,
   "metadata": {},
   "outputs": [
    {
     "data": {
      "text/html": [
       "<iframe src=\"https://www.youtube.com/embed/aircAruvnKk\" width=\"800\" height=\"450\" frameborder=\"0\" allow=\"accelerometer; autoplay; encrypted-media; gyroscope; picture-in-picture\" allowfullscreen></iframe>\n"
      ],
      "text/plain": [
       "<IPython.core.display.HTML object>"
      ]
     },
     "metadata": {},
     "output_type": "display_data"
    }
   ],
   "source": [
    "%%HTML\n",
    "<iframe src=\"https://www.youtube.com/embed/aircAruvnKk\" width=\"800\" height=\"450\" frameborder=\"0\" allow=\"accelerometer; autoplay; encrypted-media; gyroscope; picture-in-picture\" allowfullscreen></iframe>"
   ]
  },
  {
   "cell_type": "code",
   "execution_count": 2,
   "metadata": {},
   "outputs": [
    {
     "data": {
      "text/html": [
       "<iframe src=\"https://www.youtube.com/embed/IHZwWFHWa-w\" width=\"800\" height=\"450\" frameborder=\"0\" allow=\"accelerometer; autoplay; encrypted-media; gyroscope; picture-in-picture\" allowfullscreen></iframe>\n"
      ],
      "text/plain": [
       "<IPython.core.display.HTML object>"
      ]
     },
     "metadata": {},
     "output_type": "display_data"
    }
   ],
   "source": [
    "%%HTML\n",
    "<iframe src=\"https://www.youtube.com/embed/IHZwWFHWa-w\" width=\"800\" height=\"450\" frameborder=\"0\" allow=\"accelerometer; autoplay; encrypted-media; gyroscope; picture-in-picture\" allowfullscreen></iframe>"
   ]
  },
  {
   "cell_type": "code",
   "execution_count": 3,
   "metadata": {},
   "outputs": [
    {
     "data": {
      "text/html": [
       "<iframe src=\"https://www.youtube.com/embed/Ilg3gGewQ5U\" width=\"800\" height=\"450\" frameborder=\"0\" allow=\"accelerometer; autoplay; encrypted-media; gyroscope; picture-in-picture\" allowfullscreen></iframe>\n"
      ],
      "text/plain": [
       "<IPython.core.display.HTML object>"
      ]
     },
     "metadata": {},
     "output_type": "display_data"
    }
   ],
   "source": [
    "%%HTML\n",
    "<iframe src=\"https://www.youtube.com/embed/Ilg3gGewQ5U\" width=\"800\" height=\"450\" frameborder=\"0\" allow=\"accelerometer; autoplay; encrypted-media; gyroscope; picture-in-picture\" allowfullscreen></iframe>"
   ]
  },
  {
   "cell_type": "code",
   "execution_count": null,
   "metadata": {},
   "outputs": [],
   "source": []
  }
 ],
 "metadata": {
  "kernelspec": {
   "display_name": "Python 3",
   "language": "python",
   "name": "python3"
  },
  "language_info": {
   "codemirror_mode": {
    "name": "ipython",
    "version": 3
   },
   "file_extension": ".py",
   "mimetype": "text/x-python",
   "name": "python",
   "nbconvert_exporter": "python",
   "pygments_lexer": "ipython3",
   "version": "3.8.5"
  }
 },
 "nbformat": 4,
 "nbformat_minor": 4
}
