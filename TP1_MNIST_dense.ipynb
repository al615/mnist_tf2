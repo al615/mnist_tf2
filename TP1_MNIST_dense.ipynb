{
 "cells": [
  {
   "cell_type": "markdown",
   "metadata": {},
   "source": [
    "# Machine learning avec les modules Python tensorflow2/keras "
   ]
  },
  {
   "cell_type": "markdown",
   "metadata": {},
   "source": [
    "## Entraînement / exploitation d'un réseau de neurones dense pour la reconnaissance de chiffres manuscrits"
   ]
  },
  {
   "cell_type": "markdown",
   "metadata": {},
   "source": [
    "## La banque d'images MNIST\n",
    "\n",
    "Dans ce TP nous utilisons les images de la banque MNIST disponible sur Internet (http://yann.lecun.com/exdb/mnist/).\n",
    "\n",
    "La banque MNIST propose 70000 images en ton de gris de 28 $\\times$ 28 pixels, correspondant à des matrice 28 $\\times$ 28 de nombres `uint8` (entiers positifs dans l'intervalle [0 ; 255]).<br>\n",
    "Les 70000 images du MNIST sont regoupées en **60000 images d'apprentissage** et **10000 images de test**.\n",
    "\n",
    "<div class=\"alert alert-block alert-danger\">\n",
    "    L'évaluation des performances d'un réseau entraîné doit se faire sur un jeu de données différent du jeu d'entraînement : c'est pour cela que la banque MNIST propose 10000 images de test différentes des 60000 images d'entraînement.\n",
    "</div>\n",
    "<p style=\"text-align:center; font-style:italic; font-size:12px;\">\n",
    "<img src=\"./img/MnistExamples.png\" width=\"500\"><br>\n",
    "[crédit image : Josef Steppan — Travail personnel, CC BY-SA 4.0, commons.wikimedia.org/w/index.php?curid=64810040)]\n",
    "</p>"
   ]
  },
  {
   "cell_type": "markdown",
   "metadata": {},
   "source": [
    "# A/ Quelques rappels utiles...\n",
    "\n",
    "## Le neurone artificiel\n",
    "C'est une unité de traitement informatique programmée pour calculer la valeur de sa **fonction d'activation** en un point défini par la **combinaison linéaire de ses entrées** $\\sum_i \\omega_i x_i - b$ :\n",
    "\n",
    "<p style=\"text-align:center; font-style:italic; font-size:12px;\">\n",
    "    <img src=\"./img/nn_1.png\" width=\"600\" ><br>\n",
    "    [crédit image : JLC]\n",
    "</p>\n",
    "\n",
    "L'entrée *Bias* reçoit le stimuli `-1` affecté du poids $b$ permettant de décaler le point où la fonction d'activation ets calculée.\n",
    "\n",
    "## Fonction d'activation\n",
    "\n",
    "Principaux rôles :\n",
    "\n",
    "- introduire dans le neurone un comportement **non linéaire** (comme des mécanismes de seuil, de saturation...)\n",
    "- fixer la plage de sortie de la valeur calculée par le neurone, par exemple dans l'intervalle $[-1 ; 1]$, ou $[0 ; +\\infty[$\n",
    "\n",
    "Exemples de fonctions d'activations couramment utilisées :<br />\n",
    "<p style=\"text-align:center; font-style:italic; font-size:12px;\">\n",
    "    <img src=\"./img/activationFunctions.png\" width=\"900\"><br>\n",
    "    [crédit image : JLC]\n",
    "</p>"
   ]
  },
  {
   "cell_type": "markdown",
   "metadata": {},
   "source": [
    "# B/ Structure du réseau dense à construire \n",
    "Dans ce premier TP,  nous allons construire un **réseau dense**, avec :\n",
    "- une **couche d'entrée** de 784 valeurs comprises entre 0 et 1 (les pixels des image MNIST 28 $\\times$ 28 mis sous forme d'un vecteur de 784 nombres `float`),\n",
    "- une **couche cachée** de 784 neurones utilisant la fonction d'activation `relu`,\n",
    "- une **couche de sortie** à 10 neurones, pour la classification des images en 10 classes associées aux chiffres {0,1,2...9}, utilisant la fonction d'activation `softmax` adaptée aux problèmes de classification.\n",
    "\n",
    "<p style=\"text-align:center; font-style:italic; font-size:12px;\">\n",
    "    <img src=\"./img/archiReseau.png\" alt=\"archiReseau.png\" style=\"width: 900px;\"><br> \n",
    "    [crédit image : JLC]\n",
    "</p>\n",
    "\n",
    "Remarques : \n",
    "- Chaque neurone de la première couche cachée reçoit 785 entrées : les 784 valeurs $x_i$ des pixels de l'image plus le biais (l'entrée '-1'). \n",
    "- $\\leadsto$ Il y a donc 785 inconnues pour chaque neurone : les 784 poids $w_i$ affectés à chaque entrée $x_i$, plus le  poids $b$ affecté aux biais.\n",
    "- $\\leadsto$ on compte donc 785 $\\times$ 784 inconnues pour la couche cachée et 785 $\\times$ 10 inconnues pour la couche de sortie : soit un total de 623290 inconnues dont la valeur doit être optimisée par l'algorithme d'apprentissage du réseau.\n",
    "\n",
    "### Fonction d'activation softmax\n",
    "\n",
    "La fonction `softmax` calcule pour chaque neurone de sortie $k$ la valeur $\\displaystyle{Y_k = \\frac{e^{y_k}}{\\sum_i{e^{y_i}}}}$.\n",
    "\n",
    "\n",
    "`softmax` associe ainsi à chacune des sorties $y_k$ une valeur $Y_k \\in [0, 1]$ qui peut être interprétée comme la probablité de la sortie $k$ : on obtient une valeur proche de 1 pour le neurone fournissant la valeur $y_i$ la plus grande, et quasiment 0 pour tous les autres.\n",
    "\n",
    "<p style=\"text-align:center; font-style:italic; font-size:12px;\">\n",
    "    <img src=\"./img/softmax.png\" width=\"400\"><br>\n",
    "    [crédit image : JLC]\n",
    "</p>\n",
    "\n",
    "\n",
    "### Catégorisation des labels (*one-hot coding*)\n",
    "\n",
    "Les labels des images sont des entiers entre 0 et 9 désignant les chiffres de '0' à '9' alors que la sortie du réseau est un ensemble de 10 valeurs `float` comprises entre 0 et 1 (un vecteur de 10 `float`).<br>\n",
    "Pour faciliter la comparaison entre le label associé à une image et la sortie du réseau calculée pour cette image, on utilise la catégorisation *one-hot coding* : chaque classe (label) est associée à un vecteur $Y'$ comportant autant d'éléments que de classes à reconnaître : les éléments du vecteur sont tous nuls sauf un, permettant d'identifier de façon unique chacune des classes.<br>\n",
    "\n",
    "Pour notre exemple des 10 classes correspondant aux labels '0' à '9' :\n",
    "- le label `0` correspond au vecteur $Y'_1 = [1 0 0 0 0 0 0 0 0 0]$.\n",
    "- le label `3` correspond au vecteur $Y'_4 = [0 0 0 1 0 0 0 0 0 0]$.\n",
    "- le label `9` correspond au vecteur $Y'_9 = [0 0 0 0 0 0 0 0 0 1]$.\n",
    "\n",
    "### Calcul de l'erreur\n",
    "\n",
    "Pendant la phase d'entraînement du réseau, chaque image en entrée du réseau donne un vecteur de probabilités en sortie (réponse calculée par le réseau) qui peut doit être comparé à la représentation *hot-one* du label associé à l'image d'entrée.\n",
    "\n",
    "On peut utiliser l'erreur *cross entropy* : $-\\sum_i{Y'_i.\\log{Y_i}}$ qui mesure l'écart entre la représentation *one-hot* du label et la réponse du réseau :\n",
    "\n",
    "<p style=\"text-align:center; font-style:italic; font-size:12px;\">\n",
    "    <img src=\"./img/CrossEntropy.png\" width=600><br>\n",
    "    (crédit image : vidéo \"Deep Learning TensorFlow\" de Martin Gorner)\n",
    "</p>\n",
    "\n",
    "\n",
    "### Backpropagation error\n",
    "\n",
    "L'algorithme de **retropropagation de l'erreur** permet de modifier les poids des couches du réseau pour minimiser l'erreur entre valeur attendue et valeur prédite par le réseau. <br>\n",
    "Au fur et à mesure des apprentissages successifs, les poids du réseau convergent vers un état qui constitue le réseau entraîné."
   ]
  },
  {
   "cell_type": "markdown",
   "metadata": {},
   "source": [
    "### Rendre les tirages aléatoires reproductibles"
   ]
  },
  {
   "cell_type": "markdown",
   "metadata": {},
   "source": [
    "Les poids d'un réseau de neurones sont initialisés par tirage aléatoire ; lorsqu'on invoque plusieurs fois de suite des générateurs aléatoires (comme `numpy.random.rand`...) on constate qu'à chaque invocation, on obtient une suite de valeurs aléatoires différentes :"
   ]
  },
  {
   "cell_type": "code",
   "execution_count": 1,
   "metadata": {},
   "outputs": [
    {
     "name": "stdout",
     "output_type": "stream",
     "text": [
      "[0.97476524 0.24647642 0.8130836  0.44725372 0.69945352]\n"
     ]
    }
   ],
   "source": [
    "import numpy as np\n",
    "print(np.random.rand(5))"
   ]
  },
  {
   "cell_type": "code",
   "execution_count": 2,
   "metadata": {},
   "outputs": [
    {
     "name": "stdout",
     "output_type": "stream",
     "text": [
      "[0.64708311 0.68928337 0.87936452 0.33675265 0.73172459]\n"
     ]
    }
   ],
   "source": [
    "print(np.random.rand(5))"
   ]
  },
  {
   "cell_type": "markdown",
   "metadata": {},
   "source": [
    "Ceci peut présenter un problème quand on veut étudier les performances d'un réseau entraîné en fonction de paramètres de construction : à chaque fois qu'on relance la cellule ou le notebook avec de nouvelles valeurs des paramètres, on obtient un état initial du réseau différent conduisant à un état du réseau entraîné différent... ce qui peut gêner les comparaisons.\n",
    "\n",
    "Quand on a besoin d'éviter ce phénomène, on peut fixer la **graine** (*seed*) des générateurs aléatoires de façon à produire des suites de nombres aléatoires **reproductibles**.<br>\n",
    "Les cellules suivantes illustrent le procédé :"
   ]
  },
  {
   "cell_type": "code",
   "execution_count": 3,
   "metadata": {},
   "outputs": [],
   "source": [
    "seed = 43"
   ]
  },
  {
   "cell_type": "code",
   "execution_count": 4,
   "metadata": {},
   "outputs": [
    {
     "data": {
      "text/plain": [
       "array([0.11505457, 0.60906654, 0.13339096, 0.24058962, 0.32713906])"
      ]
     },
     "execution_count": 4,
     "metadata": {},
     "output_type": "execute_result"
    }
   ],
   "source": [
    "np.random.seed(seed)\n",
    "np.random.rand(5)"
   ]
  },
  {
   "cell_type": "code",
   "execution_count": 5,
   "metadata": {},
   "outputs": [
    {
     "data": {
      "text/plain": [
       "array([0.11505457, 0.60906654, 0.13339096, 0.24058962, 0.32713906])"
      ]
     },
     "execution_count": 5,
     "metadata": {},
     "output_type": "execute_result"
    }
   ],
   "source": [
    "np.random.seed(seed)\n",
    "np.random.rand(5)"
   ]
  },
  {
   "cell_type": "markdown",
   "metadata": {},
   "source": [
    "# B/ Travail à faire"
   ]
  },
  {
   "cell_type": "markdown",
   "metadata": {},
   "source": [
    "## Environnement Python de travail"
   ]
  },
  {
   "cell_type": "markdown",
   "metadata": {},
   "source": [
    "<div class=\"alert alert-block alert-danger\">\n",
    "<span style=\"color:brown;font-family:arial;font-size:normal\"> \n",
    "L'état de l'art actuel des projets de machine learning sous Python préconise de travailler dans un <span style=\"font-weight:bold;\">environnement virtuel Python3</span> qui permet de maîtriser les versions des modules Python \"sensibles\" (comme tensorflow par exemple) : dans le cas d'un démarrage de l'ordinateur avec une clef USB Ubuntu, on peut considérer que la clef fournit un environnement Python dédié (celui de la clef), à condition de ne pas faire de mises à jour des paquets Python avec <span style=\"font-style:italic\">pip install...</span>\n",
    "    \n",
    "Dans le cas contraire, le document <span style=\"font-style:italic\">EnvironnementPython_tf2.pdf</span> explique comment créer un environnement Python dédié pour le travail avec le module tensorflow.\n",
    "</span>\n",
    "</div>"
   ]
  },
  {
   "cell_type": "markdown",
   "metadata": {},
   "source": [
    "### Documentation tensorflow/keras\n",
    "\n",
    "Le module **keras** qui permet une manipulation de haut niveau des objets **tensorflow** est intégré dans tensorflow2. <br>\n",
    "La documentation du module **tf.keras** à consulter pour ce TP est ici : https://www.tensorflow.org/api_docs/python/tf/keras. \n",
    "\n",
    "Versions des modules Python validées pour ce TP sous Ubuntu 20 / Python3.8.5 :\n",
    "- tensorflow 2.4.0 incluant tensorflow.keras 2.4.0\n",
    "- OpenCV 4.2.0"
   ]
  },
  {
   "cell_type": "code",
   "execution_count": 6,
   "metadata": {},
   "outputs": [
    {
     "name": "stdout",
     "output_type": "stream",
     "text": [
      "Python    : 3.8.5\n",
      "tensorflow: 2.4.0 incluant keras 2.4.0\n",
      "OpenCV    : 4.2.0\n"
     ]
    }
   ],
   "source": [
    "import tensorflow as tf\n",
    "from tensorflow import keras\n",
    "import sys, cv2\n",
    "print(f\"Python    : {sys.version.split()[0]}\")\n",
    "print(f\"tensorflow: {tf.__version__} incluant keras {keras.__version__}\")\n",
    "print(f\"OpenCV    : {cv2.__version__}\")"
   ]
  },
  {
   "cell_type": "markdown",
   "metadata": {},
   "source": [
    "Incrustation des tracés matplotlib dans le cahier IPython et import de modules utiles :"
   ]
  },
  {
   "cell_type": "code",
   "execution_count": 7,
   "metadata": {
    "scrolled": true
   },
   "outputs": [],
   "source": [
    "%matplotlib inline\n",
    "import matplotlib.pyplot as plt\n",
    "import numpy as np"
   ]
  },
  {
   "cell_type": "markdown",
   "metadata": {},
   "source": [
    "## 1 - Récupération des images MNIST"
   ]
  },
  {
   "cell_type": "markdown",
   "metadata": {},
   "source": [
    "Consulter la documentation de la fonction `load_data` sur la page [tf.keras.datasets.mnist.load_data](https://www.tensorflow.org/api_docs/python/tf/keras/datasets/mnist/load_data) puis compléter la cellule ci-dessous pour charger les données du MNIST en nommant les données renvoyées :<br>\n",
    "- `im_train`, `im_test` pour les images d'entraînement et de test,\n",
    "- `lab_train`, `lab_test` pour les labels des données d'entraînement et de test."
   ]
  },
  {
   "cell_type": "code",
   "execution_count": 8,
   "metadata": {},
   "outputs": [],
   "source": [
    "(im_train, lab_train), (im_test, lab_test) = tf.keras.datasets.mnist.load_data()"
   ]
  },
  {
   "cell_type": "markdown",
   "metadata": {},
   "source": [
    "La cellule ci-dessous affiche les attributs `shape` et `dtype` des tableaux numpy obtenus : les valeurs son-elles cohérentes ?"
   ]
  },
  {
   "cell_type": "code",
   "execution_count": 9,
   "metadata": {},
   "outputs": [
    {
     "name": "stdout",
     "output_type": "stream",
     "text": [
      "im_train: (60000, 28, 28) uint8 , im_test: (10000, 28, 28) uint8\n",
      "lab_train: (60000,) uint8 , lab_test: (10000,) uint8\n"
     ]
    }
   ],
   "source": [
    "print(\"im_train:\", im_train.shape, im_train.dtype, \", im_test:\",im_test.shape, im_test.dtype)\n",
    "print(\"lab_train:\", lab_train.shape, lab_train.dtype, \", lab_test:\",lab_test.shape, lab_test.dtype)"
   ]
  },
  {
   "cell_type": "markdown",
   "metadata": {},
   "source": [
    "### Visualisation des images et des étiquettes :"
   ]
  },
  {
   "cell_type": "markdown",
   "metadata": {},
   "source": [
    "Avec la fonction `imshow` du module `matplotlib.pyplot` faire afficher en tons de gris la 601-ème image du tableau `im_train`.<br><br>\n",
    "Indications :\n",
    "- utiliser `plt.figure(figsize=(2,2))` pour fixer la taille de l'image\n",
    "- utiliser l'option `cmap='gray'` de `imshow` pour l'affichage en ton de gris\n",
    "- enlever les graduations en X et Y avec l'instruction  `plt.xticks([]); plt.yticks([])`."
   ]
  },
  {
   "cell_type": "code",
   "execution_count": 10,
   "metadata": {},
   "outputs": [
    {
     "data": {
      "image/png": "[encoded data removed]",
      "text/plain": [
       "<Figure size 144x144 with 1 Axes>"
      ]
     },
     "metadata": {},
     "output_type": "display_data"
    }
   ],
   "source": [
    "plt.figure(figsize=(2,2))\n",
    "plt.imshow(im_train[600], cmap='gray')\n",
    "plt.xticks([]); plt.yticks([]);"
   ]
  },
  {
   "cell_type": "markdown",
   "metadata": {},
   "source": [
    "Vérifier que l'étiquette associée à `image_train[600]` correspond bien à ce qu'on voir sur l'image...."
   ]
  },
  {
   "cell_type": "code",
   "execution_count": 11,
   "metadata": {},
   "outputs": [
    {
     "data": {
      "text/plain": [
       "True"
      ]
     },
     "execution_count": 11,
     "metadata": {},
     "output_type": "execute_result"
    }
   ],
   "source": [
    "lab_train[600] == 9"
   ]
  },
  {
   "cell_type": "markdown",
   "metadata": {},
   "source": [
    "Écrire une fonction `plot_images` d'arguments `images, r, L, C` qui affiche les images du tableau `images` (tableau de matrices) dans une grille d'images de `L` lignes et `C` colonnes  en commençant avec l'image de rang `r`. La taille de la figure totale (option`figsize` de `plt.figure`) sera fixée pour que chaque image de la grille soit de taille `(1,1)`.<br>\n",
    "*Indications* : utiliser `plt.subplot(L,C,n)` pour positionner la nième image dans la grille des L x C images."
   ]
  },
  {
   "cell_type": "code",
   "execution_count": 12,
   "metadata": {},
   "outputs": [],
   "source": [
    "def plot_images(images, r,L,C):\n",
    "    plt.figure(figsize=(C,L))\n",
    "    for i in range(L*C):\n",
    "        plt.subplot(L, C, i+1)\n",
    "        plt.imshow(images[r+i], cmap='gray')\n",
    "        plt.xticks([]); plt.yticks([])"
   ]
  },
  {
   "cell_type": "markdown",
   "metadata": {},
   "source": [
    "Faire afficher les images d'entraînement à partir de la 601 ème dans une grille de 4 x 6 :"
   ]
  },
  {
   "cell_type": "code",
   "execution_count": 13,
   "metadata": {},
   "outputs": [
    {
     "data": {
      "image/png": "[encoded data removed]",
      "text/plain": [
       "<Figure size 432x288 with 24 Axes>"
      ]
     },
     "metadata": {},
     "output_type": "display_data"
    }
   ],
   "source": [
    "plot_images(im_train, 600, 4, 6)"
   ]
  },
  {
   "cell_type": "markdown",
   "metadata": {},
   "source": [
    "Faire afficher les images de test à partir de la 601 ème dans une grille de 4 x 6 :"
   ]
  },
  {
   "cell_type": "code",
   "execution_count": 14,
   "metadata": {},
   "outputs": [
    {
     "data": {
      "image/png": "[encoded data removed]",
      "text/plain": [
       "<Figure size 432x288 with 24 Axes>"
      ]
     },
     "metadata": {},
     "output_type": "display_data"
    }
   ],
   "source": [
    "plot_images(im_test, 600, 4, 6)"
   ]
  },
  {
   "cell_type": "markdown",
   "metadata": {},
   "source": [
    "## 2 - Pré-traitement des données"
   ]
  },
  {
   "cell_type": "markdown",
   "metadata": {},
   "source": [
    "Pour adapter les données au réseau de neurones, on va transformer les matrice d'entiers `uint8` représentant les images 28 x 28 pixels en vecteurs **normalisés** $(V_i)_{i=0..783}$ de 784 valeurs réelles $V_i$  avec $ 0 \\leqslant V_i \\leqslant 1.$<br />\n",
    "\n",
    "*Nota* : une autre façon de faire consisterait à garder les matrices en utilisant l'option de du module **keras** qui permet de dire que la couche d'entrée est constituée de matrices (cf le TP3 qui met en oeuvre un réseau convolutionnel)."
   ]
  },
  {
   "cell_type": "markdown",
   "metadata": {},
   "source": [
    "### Transformation des matrices d'entrée en vecteurs normalisés :"
   ]
  },
  {
   "cell_type": "markdown",
   "metadata": {},
   "source": [
    "Pour paramétrer les traitements, on récupère à l'aide des tableaux `im_train` et `im_test` :\n",
    "- le nombre d'images d'entraînement (`nb_im_train` et `nb_im_test`)\n",
    "- le nombre de pixels des images (`nb_pixels`)"
   ]
  },
  {
   "cell_type": "code",
   "execution_count": 15,
   "metadata": {},
   "outputs": [
    {
     "name": "stdout",
     "output_type": "stream",
     "text": [
      "60000 images d'entraînement et 10000 images de test\n",
      "784 pixels dans chaque image\n"
     ]
    }
   ],
   "source": [
    "# compléter la cellule...\n",
    "nb_im_train = im_train.shape[0]\n",
    "nb_im_test  = im_test.shape[0]\n",
    "nb_pixels   = im_train[0].size        \n",
    "print(f\"{nb_im_train} images d'entraînement et {nb_im_test} images de test\")\n",
    "print(f\"{nb_pixels} pixels dans chaque image\")"
   ]
  },
  {
   "cell_type": "markdown",
   "metadata": {},
   "source": [
    "Définir maintenant les tableaux `x_train` et `y_train` contenant les matrices des tableaux `im_train` et `im_test` *mises à plat* sous forme de vecteurs normalisés (valeurs comprises entre 0 et 1).<br>\n",
    "*indications* : utiliser la méthode `reshape` des tableaux ndarray de numpy et les valeurs de `nb_im_train`, `nb_im_test` et `nb_pixels` :"
   ]
  },
  {
   "cell_type": "code",
   "execution_count": 16,
   "metadata": {},
   "outputs": [],
   "source": [
    "x_train = im_train.reshape((nb_im_train, nb_pixels))/255\n",
    "x_test  = im_test.reshape((nb_im_test, nb_pixels))/255"
   ]
  },
  {
   "cell_type": "markdown",
   "metadata": {},
   "source": [
    "Vérifier visuellement que les dimensions des tableaux `x_train` et `x_test` sont bien celles attendues :"
   ]
  },
  {
   "cell_type": "code",
   "execution_count": 17,
   "metadata": {},
   "outputs": [
    {
     "data": {
      "text/plain": [
       "((60000, 784), (10000, 784))"
      ]
     },
     "execution_count": 17,
     "metadata": {},
     "output_type": "execute_result"
    }
   ],
   "source": [
    "x_train.shape, x_test.shape"
   ]
  },
  {
   "cell_type": "markdown",
   "metadata": {},
   "source": [
    "Vérifier que les valeurs min et max des tableaux `x_train` et `x_test` sont bien celles attendues :"
   ]
  },
  {
   "cell_type": "code",
   "execution_count": 18,
   "metadata": {},
   "outputs": [
    {
     "data": {
      "text/plain": [
       "(0.0, 1.0)"
      ]
     },
     "execution_count": 18,
     "metadata": {},
     "output_type": "execute_result"
    }
   ],
   "source": [
    "x_train.min(), x_train.max()"
   ]
  },
  {
   "cell_type": "code",
   "execution_count": 19,
   "metadata": {},
   "outputs": [
    {
     "data": {
      "text/plain": [
       "(0.0, 1.0)"
      ]
     },
     "execution_count": 19,
     "metadata": {},
     "output_type": "execute_result"
    }
   ],
   "source": [
    "x_test.min(), x_test.max()"
   ]
  },
  {
   "cell_type": "markdown",
   "metadata": {},
   "source": [
    "###  Codage *one-hot*  des labels:"
   ]
  },
  {
   "cell_type": "markdown",
   "metadata": {},
   "source": [
    "Consulter la page sur la fonction `to_categorical` [tf.keras.utils.to_categorical](https://www.tensorflow.org/api_docs/python/tf/keras/utils/to_categorical), en déduire comment transformer les tableaux `lab_train` et `lab_test` en tableaux `y_train` et `y_test` contenant des vecteurs encodés *hot-one* :"
   ]
  },
  {
   "cell_type": "code",
   "execution_count": 20,
   "metadata": {},
   "outputs": [],
   "source": [
    "from tensorflow.keras.utils import to_categorical\n",
    "# 'one-hot' encoding' des labels :\n",
    "y_train = to_categorical(lab_train)\n",
    "y_test  = to_categorical(lab_test)"
   ]
  },
  {
   "cell_type": "markdown",
   "metadata": {},
   "source": [
    "Vérifier visuellement les 10 premières valeurs des tableaux `lab_train` et `y_train` :"
   ]
  },
  {
   "cell_type": "code",
   "execution_count": 21,
   "metadata": {},
   "outputs": [
    {
     "data": {
      "text/plain": [
       "(array([5, 0, 4, 1, 9, 2, 1, 3, 1, 4], dtype=uint8),\n",
       " array([[0., 0., 0., 0., 0., 1., 0., 0., 0., 0.],\n",
       "        [1., 0., 0., 0., 0., 0., 0., 0., 0., 0.],\n",
       "        [0., 0., 0., 0., 1., 0., 0., 0., 0., 0.],\n",
       "        [0., 1., 0., 0., 0., 0., 0., 0., 0., 0.],\n",
       "        [0., 0., 0., 0., 0., 0., 0., 0., 0., 1.],\n",
       "        [0., 0., 1., 0., 0., 0., 0., 0., 0., 0.],\n",
       "        [0., 1., 0., 0., 0., 0., 0., 0., 0., 0.],\n",
       "        [0., 0., 0., 1., 0., 0., 0., 0., 0., 0.],\n",
       "        [0., 1., 0., 0., 0., 0., 0., 0., 0., 0.],\n",
       "        [0., 0., 0., 0., 1., 0., 0., 0., 0., 0.]], dtype=float32))"
      ]
     },
     "execution_count": 21,
     "metadata": {},
     "output_type": "execute_result"
    }
   ],
   "source": [
    "lab_train[:10], y_train[:10]"
   ]
  },
  {
   "cell_type": "markdown",
   "metadata": {},
   "source": [
    "## 3 - Construction du réseau de neurones"
   ]
  },
  {
   "cell_type": "markdown",
   "metadata": {},
   "source": [
    "On va maintenant construire un réseau de neurones **séquentiel** en **5 lignes** Python à l'aide du module **keras**.\n",
    "\n",
    "Après lecture de la page [guide/keras/sequential_model](https://www.tensorflow.org/guide/keras/sequential_model), construire le réseau  de manière incrémentalle avec la méthode `add` dans la cellule ci-dessous en suivant la démarche proposée :\n",
    "- 1- Créer l'objet `model` instance de la classe `Sequential` (cf [tf.keras.Sequential](https://www.tensorflow.org/api_docs/python/tf/keras/Sequential)).\n",
    "- 2- Les couches du réseau sont des objets de type `Dense` ajoutés à `model` avec la méthode `add`. (cf [tf.keras.layers.Dense](https://www.tensorflow.org/api_docs/python/tf/keras/layers/Dense)) <br>\n",
    "Chaque objet `Dense` est construit avec les arguments propres à sa couche :\n",
    "    - argument de la couche d'entrée : `keras.Input(shape=(nb_pixels,))`, pour spécifier la forme des données d'entrées.\n",
    "    - argument de la 1ère couche : `Dense(nb_pixels, activation='relu')`\n",
    "        - `nb_pixels` neurones dans la couche,\n",
    "        - `activation='relu'` affecte la fonction d'activation *relu* à tous les neurones de la couche (cf  [tf.keras.activation.relu](https://www.tensorflow.org/api_docs/python/tf/keras/activations/relu)).\n",
    "        - la forme des données d'entrée est donnée par la couche précédente.\n",
    "    - argument de la 2ème couche : `Dense(nb_classes, activation='softmax')`\n",
    "        - `nb_classes` neurones dans le couche,\n",
    "        - `activation='softmax'` affecte la fontion d'activation *softmax* à tous les neurones de la couche (cf [tf.keras.activation.softmax](https://www.tensorflow.org/api_docs/python/tf/keras/activations/softmax))\n",
    "        - le nombre d'entrées est déduit automatiquement (nombre de neurones de la couche précédente)\n",
    "- 3- Lancer la méthode `compile` de l'objet `model` en utilisant les arguments :\n",
    "    - `loss=\"categorical_crossentropy\"` pour choisir la focntion d'erreur entropie croisée (cf [tf.keras.categorical_crossentropy](https://www.tensorflow.org/api_docs/python/tf/keras/losses/categorical_crossentropy))\n",
    "    - `optimizer=\"adam\"` pour choisir l'optimiseur Adam (cf page [tf.keras.optimizers.Adam](https://www.tensorflow.org/api_docs/python/tf/keras/optimizers/Adam))\n",
    "    - `metrics=[\"accuracy\"]` qui permettra d'obtenir des données pour tracer les courbes de performance."
   ]
  },
  {
   "cell_type": "code",
   "execution_count": 22,
   "metadata": {},
   "outputs": [],
   "source": [
    "import numpy as np\n",
    "from tensorflow.keras.models import Sequential\n",
    "from tensorflow.keras.layers import Dense \n",
    "\n",
    "nb_classes = 10\n",
    "np.random.seed(43)\n",
    "\n",
    "# les 5 lignes pour construire le réseau de neurones:\n",
    "model = Sequential()\n",
    "model.add(keras.Input(shape=(nb_pixels,)))\n",
    "model.add(Dense(nb_pixels, activation='relu'))\n",
    "model.add(Dense(nb_classes, activation='softmax'))\n",
    "model.compile(loss='categorical_crossentropy', \n",
    "              optimizer='adam', \n",
    "              metrics=['accuracy'])"
   ]
  },
  {
   "cell_type": "markdown",
   "metadata": {},
   "source": [
    "Avec la méthode `summary` de l'objet `model`, faire afficher la description du modèle : noter les valeurs des paramètres..."
   ]
  },
  {
   "cell_type": "code",
   "execution_count": 23,
   "metadata": {},
   "outputs": [
    {
     "name": "stdout",
     "output_type": "stream",
     "text": [
      "Model: \"sequential\"\n",
      "_________________________________________________________________\n",
      "Layer (type)                 Output Shape              Param #   \n",
      "=================================================================\n",
      "dense (Dense)                (None, 784)               615440    \n",
      "_________________________________________________________________\n",
      "dense_1 (Dense)              (None, 10)                7850      \n",
      "=================================================================\n",
      "Total params: 623,290\n",
      "Trainable params: 623,290\n",
      "Non-trainable params: 0\n",
      "_________________________________________________________________\n"
     ]
    }
   ],
   "source": [
    "model.summary()"
   ]
  },
  {
   "cell_type": "markdown",
   "metadata": {},
   "source": [
    "Retrouver le nombre total de paramètres avec une formule simple ..."
   ]
  },
  {
   "cell_type": "code",
   "execution_count": 24,
   "metadata": {},
   "outputs": [
    {
     "data": {
      "text/plain": [
       "623290"
      ]
     },
     "execution_count": 24,
     "metadata": {},
     "output_type": "execute_result"
    }
   ],
   "source": [
    "785*784+785*10"
   ]
  },
  {
   "cell_type": "markdown",
   "metadata": {},
   "source": [
    "La fonction `plot_model` permet aussi de dessiner la structure du réseau (vor la page [tf.keras.utils.plot_model](https://www.tensorflow.org/api_docs/python/tf/keras/utils/plot_model))"
   ]
  },
  {
   "cell_type": "code",
   "execution_count": 25,
   "metadata": {},
   "outputs": [
    {
     "data": {
      "image/png": "[encoded data removed]",
      "text/plain": [
       "<IPython.core.display.Image object>"
      ]
     },
     "execution_count": 25,
     "metadata": {},
     "output_type": "execute_result"
    }
   ],
   "source": [
    "tf.keras.utils.plot_model(model, show_shapes=True)"
   ]
  },
  {
   "cell_type": "markdown",
   "metadata": {},
   "source": [
    "### Sauvegarde de l'état initial du  réseau"
   ]
  },
  {
   "cell_type": "markdown",
   "metadata": {},
   "source": [
    "On peut sauvegarder l'état initial des poids du réseau non-entraîné (valeurs aléatoires) avec la méthode `Model.save_weights`. <br>\n",
    "Ce sera utile plus loin pour remettre le réseau à son état initial avant de relancer d'autres entraînements :"
   ]
  },
  {
   "cell_type": "code",
   "execution_count": 26,
   "metadata": {},
   "outputs": [
    {
     "name": "stdout",
     "output_type": "stream",
     "text": [
      "weights/initial.data-00000-of-00001\n",
      "weights/initial.index\n"
     ]
    }
   ],
   "source": [
    "import os\n",
    "\n",
    "# vérifier que le dossier 'weights' existe et sinon le créer:\n",
    "if not os.path.exists(\"weights\"): os.mkdir(\"weights\")\n",
    "\n",
    "# sauvegarde des poinds du réseau initial:\n",
    "model.save_weights('weights/initial')\n",
    "\n",
    "# afficher les fichiers créés:\n",
    "files=[os.path.join(\"weights\",f) for f in os.listdir(\"weights\") if f.startswith(\"initial\")]\n",
    "for f in files: print(f)"
   ]
  },
  {
   "cell_type": "markdown",
   "metadata": {},
   "source": [
    "Remarque : la méthode `Model.save_weights` utilise on donne le nom `\"initial\"`pour créer plusieurs fichiers préfixés par `\"initial\"`.<br>\n",
    "Lors de la lecture ultérieure des poids du réseau avec la méthode `Model.load_weights` il suffira de donner le même nom pour que cela fonctionne."
   ]
  },
  {
   "cell_type": "markdown",
   "metadata": {},
   "source": [
    "## 4 - Entraînement du réseau"
   ]
  },
  {
   "cell_type": "markdown",
   "metadata": {},
   "source": [
    "Compléter la cellule ci-dessous pour entraîner le réseau en utilisant la méthode `fit` de l'objet `model` avec les arguments :\n",
    "- `x_train` : les 60000 images mises à plat et normalisées\n",
    "- `y_train` : les 60000 labels encodés *one-hot*.\n",
    "- `epochs=15` : faire 15 fois l'entraînement complet.\n",
    "- `batch_size=128` : découper le jeu des données d'entrée (les 60000 images) en \"lots\" (*batch*) de taille `batch_size`.<br>\n",
    "La mise à jour des poids du réseau est faite au bout de `batch_size` échantillons d'entrée. La valeur de `batch_size` (par défaut est 32) est un paramètre qui influe beaucoup sur la qualité de l'apprentissage : on peut essayer d'autres valeurs (64, 128 ...) et observer comment évoluent les performances d'entraînement).\n",
    "\n",
    "Consulter au besoin la documentation de la méthode `fit` dans la page [tf.keras.Sequential](https://www.tensorflow.org/api_docs/python/tf/keras/Sequential)."
   ]
  },
  {
   "cell_type": "code",
   "execution_count": 27,
   "metadata": {
    "scrolled": false
   },
   "outputs": [
    {
     "name": "stdout",
     "output_type": "stream",
     "text": [
      "Epoch 1/15\n",
      "469/469 [==============================] - 4s 8ms/step - loss: 0.4243 - accuracy: 0.8787\n",
      "Epoch 2/15\n",
      "469/469 [==============================] - 4s 8ms/step - loss: 0.1007 - accuracy: 0.9708\n",
      "Epoch 3/15\n",
      "469/469 [==============================] - 4s 8ms/step - loss: 0.0620 - accuracy: 0.9816\n",
      "Epoch 4/15\n",
      "469/469 [==============================] - 4s 8ms/step - loss: 0.0418 - accuracy: 0.9879\n",
      "Epoch 5/15\n",
      "469/469 [==============================] - 3s 7ms/step - loss: 0.0276 - accuracy: 0.9922\n",
      "Epoch 6/15\n",
      "469/469 [==============================] - 3s 7ms/step - loss: 0.0208 - accuracy: 0.9942\n",
      "Epoch 7/15\n",
      "469/469 [==============================] - 3s 7ms/step - loss: 0.0149 - accuracy: 0.9962\n",
      "Epoch 8/15\n",
      "469/469 [==============================] - 3s 7ms/step - loss: 0.0112 - accuracy: 0.9974\n",
      "Epoch 9/15\n",
      "469/469 [==============================] - 3s 7ms/step - loss: 0.0079 - accuracy: 0.9980\n",
      "Epoch 10/15\n",
      "469/469 [==============================] - 3s 7ms/step - loss: 0.0083 - accuracy: 0.9980\n",
      "Epoch 11/15\n",
      "469/469 [==============================] - 4s 8ms/step - loss: 0.0082 - accuracy: 0.9976\n",
      "Epoch 12/15\n",
      "469/469 [==============================] - 3s 7ms/step - loss: 0.0060 - accuracy: 0.9985\n",
      "Epoch 13/15\n",
      "469/469 [==============================] - 3s 6ms/step - loss: 0.0044 - accuracy: 0.9992\n",
      "Epoch 14/15\n",
      "469/469 [==============================] - 3s 6ms/step - loss: 0.0064 - accuracy: 0.9982\n",
      "Epoch 15/15\n",
      "469/469 [==============================] - 3s 6ms/step - loss: 0.0056 - accuracy: 0.9984\n"
     ]
    }
   ],
   "source": [
    "# au cas on on exécute plusieurs fois cette cellule, il faut ré-initialiser \n",
    "# les poids du réseau à leur valeur initiale si on veut comparer les entraînements...\n",
    "model.load_weights(\"weights/initial\") \n",
    "\n",
    "hist = model.fit(x_train, y_train, \n",
    "                 epochs=15, \n",
    "                 batch_size=128)"
   ]
  },
  {
   "cell_type": "markdown",
   "metadata": {},
   "source": [
    "L'objet `hist` retourné par la méthode `fit` possède un attribut `history` de type dictionnaire dont les clefs `'loss'` et `'accuracy'` contiennent l'évaluation de la perte et de de précision du réseau entraîné après chaque 'époque ' (*epoch*) :"
   ]
  },
  {
   "cell_type": "code",
   "execution_count": 28,
   "metadata": {},
   "outputs": [
    {
     "data": {
      "text/plain": [
       "dict_keys(['loss', 'accuracy'])"
      ]
     },
     "execution_count": 28,
     "metadata": {},
     "output_type": "execute_result"
    }
   ],
   "source": [
    "hist.history.keys()"
   ]
  },
  {
   "cell_type": "code",
   "execution_count": 29,
   "metadata": {},
   "outputs": [
    {
     "data": {
      "text/plain": [
       "[0.24268075823783875,\n",
       " 0.09591134637594223,\n",
       " 0.060549333691596985,\n",
       " 0.04261237010359764,\n",
       " 0.029204851016402245,\n",
       " 0.021765494719147682,\n",
       " 0.016506554558873177,\n",
       " 0.012231728993356228,\n",
       " 0.009999698959290981,\n",
       " 0.008289005607366562,\n",
       " 0.008257333189249039,\n",
       " 0.006903486791998148,\n",
       " 0.004794485401362181,\n",
       " 0.009174673818051815,\n",
       " 0.004951515235006809]"
      ]
     },
     "execution_count": 29,
     "metadata": {},
     "output_type": "execute_result"
    }
   ],
   "source": [
    "hist.history['loss']"
   ]
  },
  {
   "cell_type": "code",
   "execution_count": 30,
   "metadata": {},
   "outputs": [
    {
     "data": {
      "text/plain": [
       "[0.9302666783332825,\n",
       " 0.9719833135604858,\n",
       " 0.9818333387374878,\n",
       " 0.9873499870300293,\n",
       " 0.9914000034332275,\n",
       " 0.9936833381652832,\n",
       " 0.9955333471298218,\n",
       " 0.996833324432373,\n",
       " 0.9972333312034607,\n",
       " 0.9978833198547363,\n",
       " 0.9975833296775818,\n",
       " 0.9981333613395691,\n",
       " 0.9988333582878113,\n",
       " 0.9971666932106018,\n",
       " 0.9986666440963745]"
      ]
     },
     "execution_count": 30,
     "metadata": {},
     "output_type": "execute_result"
    }
   ],
   "source": [
    "hist.history['accuracy']"
   ]
  },
  {
   "cell_type": "markdown",
   "metadata": {},
   "source": [
    "### Tracé des courbes `accuracy` et `loss` :"
   ]
  },
  {
   "cell_type": "markdown",
   "metadata": {},
   "source": [
    "La fonction `plot_loss_accuracy` du module `utils.tools` (présent dans le répertoire du notebook) permet de tracer les courbes de précision et de perte en utilisant les données stockées dans l'objet `hist` :"
   ]
  },
  {
   "cell_type": "code",
   "execution_count": 31,
   "metadata": {},
   "outputs": [
    {
     "data": {
      "image/png": "[encoded data removed]",
      "text/plain": [
       "<Figure size 1080x360 with 2 Axes>"
      ]
     },
     "metadata": {
      "needs_background": "light"
     },
     "output_type": "display_data"
    }
   ],
   "source": [
    "from utils.tools import plot_loss_accuracy\n",
    "plot_loss_accuracy(hist)"
   ]
  },
  {
   "cell_type": "markdown",
   "metadata": {},
   "source": [
    "## 5 - Entraînement du réseau avec test à chaque `epoch`"
   ]
  },
  {
   "cell_type": "markdown",
   "metadata": {},
   "source": [
    "Pour avoir un indicateur réaliste de la qualité du réseau entraîné on peut tester à chaque `epoch` la précison du réseau entraîné en utilisant les données de test : il suffit de passer l'agument `validation_data` à la méthode `fit`, en lui affectant le tuple des données de test `(x_test, y_test)`"
   ]
  },
  {
   "cell_type": "code",
   "execution_count": 32,
   "metadata": {},
   "outputs": [
    {
     "name": "stdout",
     "output_type": "stream",
     "text": [
      "Epoch 1/15\n",
      "469/469 [==============================] - 4s 8ms/step - loss: 0.1933 - accuracy: 0.9416 - val_loss: 0.0929 - val_accuracy: 0.9718\n",
      "Epoch 2/15\n",
      "469/469 [==============================] - 3s 7ms/step - loss: 0.0715 - accuracy: 0.9786 - val_loss: 0.0745 - val_accuracy: 0.9771\n",
      "Epoch 3/15\n",
      "469/469 [==============================] - 3s 7ms/step - loss: 0.0450 - accuracy: 0.9863 - val_loss: 0.0613 - val_accuracy: 0.9800\n",
      "Epoch 4/15\n",
      "469/469 [==============================] - 3s 7ms/step - loss: 0.0297 - accuracy: 0.9916 - val_loss: 0.0577 - val_accuracy: 0.9811\n",
      "Epoch 5/15\n",
      "469/469 [==============================] - 4s 8ms/step - loss: 0.0201 - accuracy: 0.9946 - val_loss: 0.0622 - val_accuracy: 0.9803\n",
      "Epoch 6/15\n",
      "469/469 [==============================] - 4s 8ms/step - loss: 0.0144 - accuracy: 0.9966 - val_loss: 0.0532 - val_accuracy: 0.9835\n",
      "Epoch 7/15\n",
      "469/469 [==============================] - 4s 8ms/step - loss: 0.0095 - accuracy: 0.9978 - val_loss: 0.0576 - val_accuracy: 0.9835\n",
      "Epoch 8/15\n",
      "469/469 [==============================] - 3s 7ms/step - loss: 0.0076 - accuracy: 0.9983 - val_loss: 0.0621 - val_accuracy: 0.9822\n",
      "Epoch 9/15\n",
      "469/469 [==============================] - 4s 8ms/step - loss: 0.0059 - accuracy: 0.9987 - val_loss: 0.0640 - val_accuracy: 0.9816\n",
      "Epoch 10/15\n",
      "469/469 [==============================] - 4s 8ms/step - loss: 0.0057 - accuracy: 0.9987 - val_loss: 0.0659 - val_accuracy: 0.9818\n",
      "Epoch 11/15\n",
      "469/469 [==============================] - 4s 8ms/step - loss: 0.0085 - accuracy: 0.9974 - val_loss: 0.0692 - val_accuracy: 0.9817\n",
      "Epoch 12/15\n",
      "469/469 [==============================] - 4s 8ms/step - loss: 0.0056 - accuracy: 0.9984 - val_loss: 0.0889 - val_accuracy: 0.9767\n",
      "Epoch 13/15\n",
      "469/469 [==============================] - 4s 8ms/step - loss: 0.0075 - accuracy: 0.9978 - val_loss: 0.0620 - val_accuracy: 0.9837\n",
      "Epoch 14/15\n",
      "469/469 [==============================] - 4s 8ms/step - loss: 0.0013 - accuracy: 0.9999 - val_loss: 0.0633 - val_accuracy: 0.9845\n",
      "Epoch 15/15\n",
      "469/469 [==============================] - 4s 8ms/step - loss: 4.3992e-04 - accuracy: 1.0000 - val_loss: 0.0626 - val_accuracy: 0.9851\n"
     ]
    }
   ],
   "source": [
    "model.load_weights(\"weights/initial\")\n",
    "\n",
    "hist = model.fit(x_train, y_train,\n",
    "                 validation_data=(x_test, y_test), \n",
    "                 epochs=15, \n",
    "                 batch_size=128)"
   ]
  },
  {
   "cell_type": "markdown",
   "metadata": {},
   "source": [
    "On a cette fois dans l'objet `hist` non seulement les clefs `loss` et `accuracy` mais aussi `val_loss` et `val_accuracy` calculées en faisant tourner le réseau à chaque `epoch` avec les données de test :"
   ]
  },
  {
   "cell_type": "code",
   "execution_count": 33,
   "metadata": {},
   "outputs": [
    {
     "data": {
      "image/png": "[encoded data removed]",
      "text/plain": [
       "<Figure size 1080x360 with 2 Axes>"
      ]
     },
     "metadata": {
      "needs_background": "light"
     },
     "output_type": "display_data"
    }
   ],
   "source": [
    "from utils.tools import plot_loss_accuracy\n",
    "plot_loss_accuracy(hist)"
   ]
  },
  {
   "cell_type": "markdown",
   "metadata": {},
   "source": [
    "On voit que la précision calculée avec les données de test tend vers une limite voisine de 98%. <br>\n",
    "On pourrait penser qu'augmenter la valeur de `epochs` permet d'améliorer la précision du réseau... mais on court le risque de sur-entraînner le réseau (*over-fit*)."
   ]
  },
  {
   "cell_type": "markdown",
   "metadata": {},
   "source": [
    "### Arrêter l'entraînement avant *over-fit*\n",
    "\n",
    "Keras propose des mécanismes permettant d'arrêter automatiquement l'apprentissage en surveillant par exemple la croissance de la précision d'une `epoch` à l'autre. Ce point est traité dans le notebook `TP2_MNIST_dense_overfit.ipynb`."
   ]
  },
  {
   "cell_type": "markdown",
   "metadata": {},
   "source": [
    "### Sauvegarder les poids du  réseau entraîné"
   ]
  },
  {
   "cell_type": "markdown",
   "metadata": {},
   "source": [
    "La méthode `Model.save_weights` permet d'enregistrer les **poids** du réseau entraïné dans un fichier :"
   ]
  },
  {
   "cell_type": "code",
   "execution_count": 34,
   "metadata": {},
   "outputs": [
    {
     "name": "stdout",
     "output_type": "stream",
     "text": [
      "weights/checkpoint\n",
      "weights/check_points.data-00000-of-00001\n",
      "weights/check_points.index\n"
     ]
    }
   ],
   "source": [
    "import os\n",
    "# vérifier que le dossier 'weights' existe et sinon le créer:\n",
    "if not os.path.exists(\"weights\"): os.mkdir(\"weights\")\n",
    "\n",
    "# sauvegarde des poids du réseau entrainé:\n",
    "model.save_weights('weights/check_points')\n",
    "\n",
    "# afficher les fichiers créés:\n",
    "files=[os.path.join(\"weights\",f) for f in os.listdir(\"weights\") if f.startswith(\"check\")]\n",
    "for f in files: print(f)"
   ]
  },
  {
   "cell_type": "markdown",
   "metadata": {},
   "source": [
    "### Sauvegarder la structure du réseau et ses poids"
   ]
  },
  {
   "cell_type": "markdown",
   "metadata": {},
   "source": [
    "La méthode `Model.save` permet d'enregistrer **toute la structure et les poids** du réseau entraïné dans un fichier.<br />\n",
    "Ceci permet de recréer plus tard *from scratch* le réseau entrainé pour passer en phase exploitation du réseau par exemple, en utilisant la fonction`tf.keras.models.load_model` :"
   ]
  },
  {
   "cell_type": "code",
   "execution_count": 35,
   "metadata": {},
   "outputs": [
    {
     "name": "stdout",
     "output_type": "stream",
     "text": [
      "INFO:tensorflow:Assets written to: models/model1/assets\n",
      "models/model1\n"
     ]
    }
   ],
   "source": [
    "import os\n",
    "# vérifier que le dossier 'weights' existe et sinon le créer:\n",
    "if not os.path.exists(\"models\"): os.mkdir(\"models\")\n",
    "\n",
    "# sauvegarder structure réseau + poids :\n",
    "model.save('models/model1') \n",
    "\n",
    "# afficher les fichiers créés:\n",
    "files=[os.path.join(\"models\",f) for f in os.listdir(\"models\") if f.startswith(\"model\")]\n",
    "for f in files: print(f)"
   ]
  },
  {
   "cell_type": "markdown",
   "metadata": {},
   "source": [
    "## 6/ Exploitation du réseau avec le jeu de test"
   ]
  },
  {
   "cell_type": "markdown",
   "metadata": {},
   "source": [
    "La méthode `predict` de l'objet `model` permet de calculer la prédiction du réseau pour une ou plusieurs entrées (voir la méthode `predict`dans la page [tf.keras.Sequential](https://www.tensorflow.org/api_docs/python/tf/keras/Sequential)).\n",
    "\n",
    "La cellule ci-dessous montre la mise en oeuvre de la méthode `predict`, et comment exploiter la représentation  *one-hot* renvoyée par `fit` en utilisant la méthode `argmax` des tableaux de numpy :"
   ]
  },
  {
   "cell_type": "code",
   "execution_count": 36,
   "metadata": {},
   "outputs": [
    {
     "name": "stdout",
     "output_type": "stream",
     "text": [
      "sortie du réseau pour l'image de rang 100 :\n",
      "[4.1557211e-08 1.4845161e-10 5.2440180e-10 7.3660609e-12 1.0376212e-10\n",
      " 9.4466623e-10 1.0000000e+00 1.4716485e-11 1.7507069e-09 9.6762398e-13]\n",
      "\n",
      "sortie réseau arrondie à 1 chiffre : [0.0 0.0 0.0 0.0 0.0 0.0 1.0 0.0 0.0 0.0]\n",
      "rep[0].argmax() donne : 6\n",
      "\n",
      "La bonne réponse est 6 soit en 'hot-one' : [0. 0. 0. 0. 0. 0. 1. 0. 0. 0.]\n"
     ]
    },
    {
     "data": {
      "image/png": "[encoded data removed]",
      "text/plain": [
       "<Figure size 72x72 with 1 Axes>"
      ]
     },
     "metadata": {},
     "output_type": "display_data"
    }
   ],
   "source": [
    "i = 100   # numéro image de test\n",
    "rep = model.predict(x_test[i:i+1]) # Attention: x doit être un tableau de matrices...\n",
    "                                   # => x[i] ne convient pas !\n",
    "\n",
    "print(f\"sortie du réseau pour l'image de rang {i} :\\n{rep[0]}\")\n",
    "\n",
    "# limiter l'affichage des composantes des tableaux numpy à 1 chiffre :    \n",
    "with np.printoptions(formatter={'float':'{:.1f}'.format}):    \n",
    "    print(f\"\\nsortie réseau arrondie à 1 chiffre : {rep[0]}\")\n",
    "    \n",
    "print(f\"rep[0].argmax() donne : {rep[0].argmax()}\")\n",
    "\n",
    "print(f\"\\nLa bonne réponse est {lab_test[i]} soit en 'hot-one' : {y_test[i]}\")\n",
    "\n",
    "plot_images(im_test,i,1,1)"
   ]
  },
  {
   "cell_type": "markdown",
   "metadata": {},
   "source": [
    "Compléter la cellule ci-dessous pour calculer le pourcentage d'erreur du réseau entrainé en utilisant les données de test :"
   ]
  },
  {
   "cell_type": "code",
   "execution_count": 37,
   "metadata": {},
   "outputs": [
    {
     "name": "stdout",
     "output_type": "stream",
     "text": [
      "taux de réussite : 98.51 %\n"
     ]
    }
   ],
   "source": [
    "results = model.predict(x_test)\n",
    "success = 0\n",
    "for i, res in enumerate(results):\n",
    "    success += (res.argmax() == lab_test[i])\n",
    "print(f\"taux de réussite : {success/len(x_test)*100:.2f} %\")"
   ]
  },
  {
   "cell_type": "markdown",
   "metadata": {},
   "source": [
    "###  Afficher la matrice de confusion"
   ]
  },
  {
   "cell_type": "markdown",
   "metadata": {},
   "source": [
    "La cellule suivante définie la fonction `show_cm` qui affiche la **matrice de confusion** :"
   ]
  },
  {
   "cell_type": "code",
   "execution_count": 38,
   "metadata": {
    "scrolled": true
   },
   "outputs": [],
   "source": [
    "import pandas as pd\n",
    "from seaborn import heatmap\n",
    "from sklearn.metrics import confusion_matrix\n",
    "\n",
    "def show_cm(target, results, classes):\n",
    "    # y : actual answers (vector of int)\n",
    "    # results : the trained network answers\n",
    "    # classes : the liste of possible answers\n",
    "    predicted = np.argmax(results, axis=-1) # tableau d'entiers entre 0 et 9 (argmax de chaque vecteur 'one-shot')\n",
    "\n",
    "    cm = confusion_matrix(target, predicted)\n",
    "    df_cm = pd.DataFrame(cm, index=classes, columns=classes)\n",
    "    plt.figure(figsize=(11,9))\n",
    "    heatmap(df_cm, annot=True);"
   ]
  },
  {
   "cell_type": "markdown",
   "metadata": {},
   "source": [
    "L'affichage de la matrice de confusion permet de visualiser :\n",
    "- sur la diagonale : les bonnes réponses du réseau, avec dans chaque case le nombre de bonne réponses\n",
    "- hors diagonale : les erreurs du réseau, avec dans chaque case la fréquence d'apparition de l'erreur."
   ]
  },
  {
   "cell_type": "code",
   "execution_count": 39,
   "metadata": {},
   "outputs": [
    {
     "data": {
      "image/png": "[encoded data removed]",
      "text/plain": [
       "<Figure size 792x648 with 2 Axes>"
      ]
     },
     "metadata": {
      "needs_background": "light"
     },
     "output_type": "display_data"
    }
   ],
   "source": [
    "show_cm(lab_test, results, range(10))"
   ]
  },
  {
   "cell_type": "markdown",
   "metadata": {},
   "source": [
    "## 7/ Évolution du réseau : augmentation du nombre de couches cachées "
   ]
  },
  {
   "cell_type": "markdown",
   "metadata": {},
   "source": [
    "On peut essayer de construire un réseau avec plus de couches. Par exemple :\n",
    "- couche d'entrée avec les 784 pixels\n",
    "- couche cachée 1 : 784 neurones, fonction d'activation `relu`\n",
    "- couche cachée 2 : 300 neurones, fonction d'activation `relu`\n",
    "- couche cachée 3 : 100 neurones, fonction d'activation `relu`    \n",
    "- couche de sortie : 10 neurone, fonction d'activation `softmax`."
   ]
  },
  {
   "cell_type": "markdown",
   "metadata": {},
   "source": [
    "Compléter la cellule ci-dessous pour construire le réseau `model2` :"
   ]
  },
  {
   "cell_type": "code",
   "execution_count": 40,
   "metadata": {},
   "outputs": [],
   "source": [
    "np.random.seed(43)\n",
    "\n",
    "model2 = Sequential()\n",
    "model2.add(keras.Input(shape=(nb_pixels,)))\n",
    "model2.add(Dense(784, activation='relu'))\n",
    "model2.add(Dense(300, activation='relu'))\n",
    "model2.add(Dense(100, activation='relu'))\n",
    "model2.add(Dense(10, activation='softmax'))\n",
    "model2.compile(loss='categorical_crossentropy', optimizer='adam', metrics=['accuracy'])"
   ]
  },
  {
   "cell_type": "markdown",
   "metadata": {},
   "source": [
    "Faire afficher la description du modèle avec la méthode `summary` :"
   ]
  },
  {
   "cell_type": "code",
   "execution_count": 41,
   "metadata": {},
   "outputs": [
    {
     "name": "stdout",
     "output_type": "stream",
     "text": [
      "Model: \"sequential_1\"\n",
      "_________________________________________________________________\n",
      "Layer (type)                 Output Shape              Param #   \n",
      "=================================================================\n",
      "dense_2 (Dense)              (None, 784)               615440    \n",
      "_________________________________________________________________\n",
      "dense_3 (Dense)              (None, 300)               235500    \n",
      "_________________________________________________________________\n",
      "dense_4 (Dense)              (None, 100)               30100     \n",
      "_________________________________________________________________\n",
      "dense_5 (Dense)              (None, 10)                1010      \n",
      "=================================================================\n",
      "Total params: 882,050\n",
      "Trainable params: 882,050\n",
      "Non-trainable params: 0\n",
      "_________________________________________________________________\n"
     ]
    }
   ],
   "source": [
    "model2.summary()"
   ]
  },
  {
   "cell_type": "markdown",
   "metadata": {},
   "source": [
    "Dessiner la structure du réseau avec aa fonction `plot_model` :"
   ]
  },
  {
   "cell_type": "code",
   "execution_count": 42,
   "metadata": {},
   "outputs": [
    {
     "data": {
      "image/png": "[encoded data removed]",
      "text/plain": [
       "<IPython.core.display.Image object>"
      ]
     },
     "execution_count": 42,
     "metadata": {},
     "output_type": "execute_result"
    }
   ],
   "source": [
    "tf.keras.utils.plot_model(model2, show_shapes=True)"
   ]
  },
  {
   "cell_type": "markdown",
   "metadata": {},
   "source": [
    "Entraîner le réseau `model2` avec les mêmes données que `model` (avec test à chaque `epoch`) et faire tracer les courbes de précision et d'erreur :"
   ]
  },
  {
   "cell_type": "code",
   "execution_count": 43,
   "metadata": {},
   "outputs": [
    {
     "name": "stdout",
     "output_type": "stream",
     "text": [
      "Epoch 1/15\n",
      "469/469 [==============================] - 6s 12ms/step - loss: 0.3944 - accuracy: 0.8813 - val_loss: 0.0993 - val_accuracy: 0.9683\n",
      "Epoch 2/15\n",
      "469/469 [==============================] - 5s 11ms/step - loss: 0.0794 - accuracy: 0.9762 - val_loss: 0.0888 - val_accuracy: 0.9729\n",
      "Epoch 3/15\n",
      "469/469 [==============================] - 5s 11ms/step - loss: 0.0515 - accuracy: 0.9830 - val_loss: 0.0919 - val_accuracy: 0.9734\n",
      "Epoch 4/15\n",
      "469/469 [==============================] - 5s 11ms/step - loss: 0.0359 - accuracy: 0.9878 - val_loss: 0.0729 - val_accuracy: 0.9793\n",
      "Epoch 5/15\n",
      "469/469 [==============================] - 5s 11ms/step - loss: 0.0293 - accuracy: 0.9900 - val_loss: 0.0875 - val_accuracy: 0.9746\n",
      "Epoch 6/15\n",
      "469/469 [==============================] - 5s 11ms/step - loss: 0.0244 - accuracy: 0.9918 - val_loss: 0.0674 - val_accuracy: 0.9813\n",
      "Epoch 7/15\n",
      "469/469 [==============================] - 5s 12ms/step - loss: 0.0197 - accuracy: 0.9934 - val_loss: 0.0810 - val_accuracy: 0.9795\n",
      "Epoch 8/15\n",
      "469/469 [==============================] - 5s 11ms/step - loss: 0.0156 - accuracy: 0.9945 - val_loss: 0.0955 - val_accuracy: 0.9778\n",
      "Epoch 9/15\n",
      "469/469 [==============================] - 5s 11ms/step - loss: 0.0191 - accuracy: 0.9927 - val_loss: 0.0841 - val_accuracy: 0.9808\n",
      "Epoch 10/15\n",
      "469/469 [==============================] - 5s 11ms/step - loss: 0.0125 - accuracy: 0.9960 - val_loss: 0.0835 - val_accuracy: 0.9813\n",
      "Epoch 11/15\n",
      "469/469 [==============================] - 5s 11ms/step - loss: 0.0130 - accuracy: 0.9954 - val_loss: 0.0934 - val_accuracy: 0.9815\n",
      "Epoch 12/15\n",
      "469/469 [==============================] - 5s 11ms/step - loss: 0.0137 - accuracy: 0.9954 - val_loss: 0.0857 - val_accuracy: 0.9810\n",
      "Epoch 13/15\n",
      "469/469 [==============================] - 5s 11ms/step - loss: 0.0095 - accuracy: 0.9967 - val_loss: 0.0938 - val_accuracy: 0.9790\n",
      "Epoch 14/15\n",
      "469/469 [==============================] - 5s 11ms/step - loss: 0.0120 - accuracy: 0.9957 - val_loss: 0.0971 - val_accuracy: 0.9812\n",
      "Epoch 15/15\n",
      "469/469 [==============================] - 5s 11ms/step - loss: 0.0070 - accuracy: 0.9974 - val_loss: 0.0935 - val_accuracy: 0.9796\n"
     ]
    }
   ],
   "source": [
    "hist2 = model2.fit(x_train, y_train, \n",
    "                   validation_data=(x_test, y_test), \n",
    "                   epochs=15, \n",
    "                   batch_size=128)"
   ]
  },
  {
   "cell_type": "markdown",
   "metadata": {},
   "source": [
    "Faire tracer les courbes 'Model loss' et 'Model accuracy'..."
   ]
  },
  {
   "cell_type": "code",
   "execution_count": 44,
   "metadata": {},
   "outputs": [
    {
     "data": {
      "image/png": "[encoded data removed]",
      "text/plain": [
       "<Figure size 1080x360 with 2 Axes>"
      ]
     },
     "metadata": {
      "needs_background": "light"
     },
     "output_type": "display_data"
    }
   ],
   "source": [
    "plot_loss_accuracy(hist2)"
   ]
  },
  {
   "cell_type": "markdown",
   "metadata": {},
   "source": [
    "Faire afficher la matrice de confusion pour les résulats prédits par le réseau `model2` :"
   ]
  },
  {
   "cell_type": "code",
   "execution_count": 45,
   "metadata": {},
   "outputs": [
    {
     "data": {
      "image/png": "[encoded data removed]",
      "text/plain": [
       "<Figure size 792x648 with 2 Axes>"
      ]
     },
     "metadata": {
      "needs_background": "light"
     },
     "output_type": "display_data"
    }
   ],
   "source": [
    "results2 = model2.predict(x_test)\n",
    "show_cm(lab_test, results2, range(10))"
   ]
  },
  {
   "cell_type": "markdown",
   "metadata": {},
   "source": [
    "Augmenter le nombre de couches a t'il un impact sur les performances du réseau ?<br />\n",
    "Que peut on conclure sur l'utilité de complexifier ce type de réseau ?"
   ]
  },
  {
   "cell_type": "markdown",
   "metadata": {},
   "source": [
    "Double-clic ici pour inscrire ta réponse : on reste voisin des 98 %... pour des temps d'entraînement plus long  => ce n'est pas utile de complexifier le réseau."
   ]
  },
  {
   "cell_type": "markdown",
   "metadata": {},
   "source": [
    "# 7/ Exploiter le réseau avec ses propres images"
   ]
  },
  {
   "cell_type": "markdown",
   "metadata": {},
   "source": [
    "On va maintenant utiliser le réseau entrainé pour voir comment il se comporte avec des chiffres \"écrits à la main\" différents des chiffres de la banque MNIST...<br>\n",
    "\n",
    "Pour cela on peut utiliser :\n",
    "- des images crées par vous-même pour l'occasion... \n",
    "- les images du répertoire `chiffres`.\n",
    "\n",
    "Si vous créez vos propres images, changez le nom du dossier `images_dir` dans la cellule ci-dessous :"
   ]
  },
  {
   "cell_type": "code",
   "execution_count": 46,
   "metadata": {},
   "outputs": [
    {
     "name": "stdout",
     "output_type": "stream",
     "text": [
      "Images du dossier 'chiffres' :\n",
      "chiffres/0.png\n",
      "chiffres/1.png\n",
      "chiffres/2.png\n",
      "chiffres/3.png\n",
      "chiffres/4.png\n",
      "chiffres/5.png\n",
      "chiffres/6.png\n",
      "chiffres/7.png\n",
      "chiffres/8.png\n",
      "chiffres/9.png\n"
     ]
    }
   ],
   "source": [
    "import os\n",
    "\n",
    "# changer le nom du répertoire au besoin :\n",
    "images_dir = \"chiffres\"\n",
    "\n",
    "images = [os.path.join(images_dir,f) for f in os.listdir(images_dir) if f.endswith(\".png\")]\n",
    "images.sort()\n",
    "\n",
    "print(\"Images du dossier 'chiffres' :\")\n",
    "for im in images: print(im)"
   ]
  },
  {
   "cell_type": "markdown",
   "metadata": {},
   "source": [
    "### Lecture des fichiers image avec openCV"
   ]
  },
  {
   "cell_type": "markdown",
   "metadata": {},
   "source": [
    "Les images doivent être convertie en image en ton de gris de 28 x 28 pixels pour pouvoir être traitées par le réseau `model`.\n",
    "\n",
    "Plusieurs fonction du module OpenCV peuvent être utilisées :\n",
    "- `cv2.imread` : permet de lire un fichier image aux formats standards (PNG, JPG,...)\n",
    "- `cv2.cvtColor` : pour convertir une image lue par `cv2.imread` en tons de gris\n",
    "- `cv2.resize` : pour retailler l'image à 28 x 28 pixels.\n",
    "\n",
    "La cellule ci-dessous montre un exemple de lecture et traitement avec OpenCV des images du dossier `images_dir` :"
   ]
  },
  {
   "cell_type": "code",
   "execution_count": 47,
   "metadata": {},
   "outputs": [],
   "source": [
    "import cv2\n",
    "wanted_shape = (28,28)\n",
    "my_images = []\n",
    "for image_path in images:\n",
    "    img = cv2.imread(image_path)                    # lecture fichier image\n",
    "    if img.shape != wanted_shape: cv2.resize(img, wanted_shape)\n",
    "    img_gray = cv2.cvtColor(img,cv2.COLOR_BGR2GRAY) # conversion en tons de gris\n",
    "    my_images.append(img_gray)"
   ]
  },
  {
   "cell_type": "markdown",
   "metadata": {},
   "source": [
    "Visualisation des images lues :"
   ]
  },
  {
   "cell_type": "code",
   "execution_count": 48,
   "metadata": {},
   "outputs": [
    {
     "data": {
      "image/png": "[encoded data removed]",
      "text/plain": [
       "<Figure size 720x72 with 10 Axes>"
      ]
     },
     "metadata": {},
     "output_type": "display_data"
    }
   ],
   "source": [
    "plot_images(my_images, 0, 1, 10)"
   ]
  },
  {
   "cell_type": "markdown",
   "metadata": {},
   "source": [
    "Inversion des images pour avoir des chiffres doivent être en blanc sur fond noir :"
   ]
  },
  {
   "cell_type": "code",
   "execution_count": 49,
   "metadata": {},
   "outputs": [
    {
     "data": {
      "image/png": "[encoded data removed]",
      "text/plain": [
       "<Figure size 720x72 with 10 Axes>"
      ]
     },
     "metadata": {},
     "output_type": "display_data"
    }
   ],
   "source": [
    "my_images = [255 - im for im in my_images]\n",
    "plot_images(my_images, 0, 1, 10)"
   ]
  },
  {
   "cell_type": "markdown",
   "metadata": {},
   "source": [
    "On peut maintenant transformer des matrices 28x28 en vecteurs de float normalisés :"
   ]
  },
  {
   "cell_type": "code",
   "execution_count": 50,
   "metadata": {},
   "outputs": [],
   "source": [
    "my_images = np.array(my_images)\n",
    "nb_images = my_images.shape[0]\n",
    "\n",
    "# mise 'à plat' des matrices sous forme de vecteurs de floats normalisés :\n",
    "x_data = my_images.reshape(nb_images, 28*28)/255."
   ]
  },
  {
   "cell_type": "markdown",
   "metadata": {},
   "source": [
    "prédiction du réseau entrainé, avec les images perso :"
   ]
  },
  {
   "cell_type": "code",
   "execution_count": 51,
   "metadata": {},
   "outputs": [
    {
     "data": {
      "text/plain": [
       "array([2, 1, 2, 3, 4, 5, 6, 7, 8, 3])"
      ]
     },
     "execution_count": 51,
     "metadata": {},
     "output_type": "execute_result"
    }
   ],
   "source": [
    "results1 = model.predict(x_data)\n",
    "results1.argmax(axis=-1)"
   ]
  },
  {
   "cell_type": "code",
   "execution_count": 52,
   "metadata": {},
   "outputs": [
    {
     "data": {
      "image/png": "[encoded data removed]",
      "text/plain": [
       "<Figure size 792x648 with 2 Axes>"
      ]
     },
     "metadata": {
      "needs_background": "light"
     },
     "output_type": "display_data"
    }
   ],
   "source": [
    "target    = np.array([0,1,2,3,4,5,6,7,8,9])\n",
    "show_cm(target, results1, range(10))"
   ]
  },
  {
   "cell_type": "markdown",
   "metadata": {},
   "source": [
    "Avec le deuxième réseau dense :"
   ]
  },
  {
   "cell_type": "code",
   "execution_count": 53,
   "metadata": {},
   "outputs": [
    {
     "data": {
      "text/plain": [
       "array([0, 1, 2, 3, 4, 5, 6, 2, 0, 1])"
      ]
     },
     "execution_count": 53,
     "metadata": {},
     "output_type": "execute_result"
    }
   ],
   "source": [
    "results2 = model2.predict(x_data)\n",
    "results2.argmax(axis=-1)"
   ]
  },
  {
   "cell_type": "code",
   "execution_count": 54,
   "metadata": {},
   "outputs": [
    {
     "data": {
      "image/png": "[encoded data removed]",
      "text/plain": [
       "<Figure size 792x648 with 2 Axes>"
      ]
     },
     "metadata": {
      "needs_background": "light"
     },
     "output_type": "display_data"
    }
   ],
   "source": [
    "target    = np.array([0,1,2,3,4,5,6,7,8,9])\n",
    "show_cm(target, results2, range(10))"
   ]
  },
  {
   "cell_type": "markdown",
   "metadata": {},
   "source": [
    "beaucoup mieux ?"
   ]
  },
  {
   "cell_type": "markdown",
   "metadata": {},
   "source": [
    "Les résultats montrent :\n",
    "- que le réseau à 1 seule couche cachée et à 2 couches cachées donnent des performances proches pour les images MNIST,\n",
    "- que l'apprentissage d'un réseau dense reste assez sensible à la nature du jeu de données : les images de chiffres faites 'maison' ne ressemblent pas tout à fait à celles de la banque MNIST, d'où des erreurs de classification avec un simple réseau dense."
   ]
  },
  {
   "cell_type": "markdown",
   "metadata": {},
   "source": [
    "# La suite....\n",
    "\n",
    "Pour aller au-delà des 98% de reconnaissance des chiffres, il faut passer à une autre architecture de réseau plus adaptée au traitement des images : les réseaux **convolutionnels**, traités dans le notebook `TP3_MNIST_convol.ipynb`."
   ]
  },
  {
   "cell_type": "markdown",
   "metadata": {},
   "source": [
    "# Autres ressources intéressantes... des vidéos :"
   ]
  },
  {
   "cell_type": "code",
   "execution_count": 55,
   "metadata": {},
   "outputs": [
    {
     "data": {
      "text/html": [
       "<iframe src=\"https://www.youtube.com/embed/trWrEWfhTVg\" width=\"800\" height=\"450\" frameborder=\"0\" allow=\"accelerometer; autoplay; encrypted-media; gyroscope; picture-in-picture\" allowfullscreen></iframe>\n"
      ],
      "text/plain": [
       "<IPython.core.display.HTML object>"
      ]
     },
     "metadata": {},
     "output_type": "display_data"
    }
   ],
   "source": [
    "%%HTML\n",
    "<iframe src=\"https://www.youtube.com/embed/trWrEWfhTVg\" width=\"800\" height=\"450\" frameborder=\"0\" allow=\"accelerometer; autoplay; encrypted-media; gyroscope; picture-in-picture\" allowfullscreen></iframe>"
   ]
  },
  {
   "cell_type": "code",
   "execution_count": 56,
   "metadata": {},
   "outputs": [
    {
     "data": {
      "text/html": [
       "<iframe src=\"https://www.youtube.com/embed/aircAruvnKk\" width=\"800\" height=\"450\" frameborder=\"0\" allow=\"accelerometer; autoplay; encrypted-media; gyroscope; picture-in-picture\" allowfullscreen></iframe>\n"
      ],
      "text/plain": [
       "<IPython.core.display.HTML object>"
      ]
     },
     "metadata": {},
     "output_type": "display_data"
    }
   ],
   "source": [
    "%%HTML\n",
    "<iframe src=\"https://www.youtube.com/embed/aircAruvnKk\" width=\"800\" height=\"450\" frameborder=\"0\" allow=\"accelerometer; autoplay; encrypted-media; gyroscope; picture-in-picture\" allowfullscreen></iframe>"
   ]
  },
  {
   "cell_type": "code",
   "execution_count": 57,
   "metadata": {},
   "outputs": [
    {
     "data": {
      "text/html": [
       "<iframe src=\"https://www.youtube.com/embed/IHZwWFHWa-w\" width=\"800\" height=\"450\" frameborder=\"0\" allow=\"accelerometer; autoplay; encrypted-media; gyroscope; picture-in-picture\" allowfullscreen></iframe>\n"
      ],
      "text/plain": [
       "<IPython.core.display.HTML object>"
      ]
     },
     "metadata": {},
     "output_type": "display_data"
    }
   ],
   "source": [
    "%%HTML\n",
    "<iframe src=\"https://www.youtube.com/embed/IHZwWFHWa-w\" width=\"800\" height=\"450\" frameborder=\"0\" allow=\"accelerometer; autoplay; encrypted-media; gyroscope; picture-in-picture\" allowfullscreen></iframe>"
   ]
  },
  {
   "cell_type": "code",
   "execution_count": 58,
   "metadata": {},
   "outputs": [
    {
     "data": {
      "text/html": [
       "<iframe src=\"https://www.youtube.com/embed/Ilg3gGewQ5U\" width=\"800\" height=\"450\" frameborder=\"0\" allow=\"accelerometer; autoplay; encrypted-media; gyroscope; picture-in-picture\" allowfullscreen></iframe>\n"
      ],
      "text/plain": [
       "<IPython.core.display.HTML object>"
      ]
     },
     "metadata": {},
     "output_type": "display_data"
    }
   ],
   "source": [
    "%%HTML\n",
    "<iframe src=\"https://www.youtube.com/embed/Ilg3gGewQ5U\" width=\"800\" height=\"450\" frameborder=\"0\" allow=\"accelerometer; autoplay; encrypted-media; gyroscope; picture-in-picture\" allowfullscreen></iframe>"
   ]
  },
  {
   "cell_type": "code",
   "execution_count": null,
   "metadata": {},
   "outputs": [],
   "source": []
  }
 ],
 "metadata": {
  "kernelspec": {
   "display_name": "Python 3",
   "language": "python",
   "name": "python3"
  },
  "language_info": {
   "codemirror_mode": {
    "name": "ipython",
    "version": 3
   },
   "file_extension": ".py",
   "mimetype": "text/x-python",
   "name": "python",
   "nbconvert_exporter": "python",
   "pygments_lexer": "ipython3",
   "version": "3.8.5"
  }
 },
 "nbformat": 4,
 "nbformat_minor": 4
}
